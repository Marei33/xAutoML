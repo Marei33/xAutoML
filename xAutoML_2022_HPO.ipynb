{
  "nbformat": 4,
  "nbformat_minor": 0,
  "metadata": {
    "colab": {
      "provenance": [],
      "collapsed_sections": [
        "lxxG65MD2QUk",
        "CWWfYlDuGGqW",
        "j30akmBaS__E",
        "aXgyO6CMGXLA",
        "r6JfBLw5XFYW",
        "QX-ZlLRXXY5W",
        "8o7hv0reg4Co",
        "OPP3GWs9l1o9",
        "_0fKqstj7x0H",
        "sYWQxq335dQd"
      ],
      "include_colab_link": true
    },
    "kernelspec": {
      "name": "python3",
      "display_name": "Python 3"
    },
    "language_info": {
      "name": "python"
    }
  },
  "cells": [
    {
      "cell_type": "markdown",
      "metadata": {
        "id": "view-in-github",
        "colab_type": "text"
      },
      "source": [
        "<a href=\"https://colab.research.google.com/github/Marei33/xAutoML/blob/main/xAutoML_2022_HPO.ipynb\" target=\"_parent\"><img src=\"https://colab.research.google.com/assets/colab-badge.svg\" alt=\"Open In Colab\"/></a>"
      ]
    },
    {
      "cell_type": "markdown",
      "metadata": {
        "id": "8ll51Cz9UFse"
      },
      "source": [
        "# Introduction\n",
        "Please make a duplicate(**File-> Save a copy in Drive**) of this collaborative and rename it (xAutoML_2022_HPO_firstname_lastname.ipynb)."
      ]
    },
    {
      "cell_type": "markdown",
      "source": [
        "# Session objectives\n",
        "\n"
      ],
      "metadata": {
        "id": "lxxG65MD2QUk"
      }
    },
    {
      "cell_type": "markdown",
      "source": [
        "\n",
        "\n",
        "*   The goal of this lab is to get familir with hyperparameter optimization. \n",
        "*   Practice random search and grid search.\n"
      ],
      "metadata": {
        "id": "08CDaXcr25zk"
      }
    },
    {
      "cell_type": "markdown",
      "metadata": {
        "id": "CWWfYlDuGGqW"
      },
      "source": [
        "# Setup"
      ]
    },
    {
      "cell_type": "code",
      "metadata": {
        "id": "-f6dwATdxryW"
      },
      "source": [
        "# your wonderful Python  packages :)\n",
        "import pandas as pd \n",
        "import numpy as np\n",
        "from scipy.stats import randint as sp_randint\n",
        "from scipy.stats import uniform as sp_rand\n",
        "import requests\n",
        "\n",
        "\n",
        "\n",
        "\n",
        "\n",
        "from sklearn.preprocessing import LabelEncoder\n",
        "from sklearn.ensemble import RandomForestClassifier\n",
        "from sklearn.ensemble import GradientBoostingClassifier\n",
        "from sklearn.model_selection import train_test_split\n",
        "from sklearn.preprocessing import StandardScaler\n",
        "from sklearn.metrics import balanced_accuracy_score, make_scorer\n",
        "\n",
        "\n",
        "# for ignoring the warnings massages.\n",
        "import warnings\n",
        "warnings.filterwarnings(\"ignore\")\n"
      ],
      "execution_count": 1,
      "outputs": []
    },
    {
      "cell_type": "markdown",
      "metadata": {
        "id": "j30akmBaS__E"
      },
      "source": [
        "# List of homeworks\n"
      ]
    },
    {
      "cell_type": "markdown",
      "source": [
        "1. There is no homework for this lab. :)"
      ],
      "metadata": {
        "id": "GCXuYHM2g5ca"
      }
    },
    {
      "cell_type": "markdown",
      "metadata": {
        "id": "aXgyO6CMGXLA"
      },
      "source": [
        "# What is HPO?\n",
        "\n"
      ]
    },
    {
      "cell_type": "markdown",
      "source": [
        "Hyperparameter Optimization or HPO is a method that helps solve the challenge of tuning hyperparameters of machine learning algorithms. \n",
        "\n",
        "Outstanding ML algorithms have multiple, distinct and complex hyperparameters that generate an enormous search space. \n",
        "\n",
        "Plenty of start-ups choose to use deep learning in the core of their pipelines, and search space in deep learning methods is even larger than traditional ML algorithms. Tuning on a massive search space is a tough challenge."
      ],
      "metadata": {
        "id": "jDPRPkm7h-FU"
      }
    },
    {
      "cell_type": "markdown",
      "metadata": {
        "id": "r6JfBLw5XFYW"
      },
      "source": [
        "# Data collection \n",
        "The initial stage in any machine learning process might be data gathering, therefore we must collect data. As an example, we will utilize a fantastic and genuine dataset. As a result, please run the following cell to get the dataset."
      ]
    },
    {
      "cell_type": "code",
      "metadata": {
        "id": "rertY7q6sxVT"
      },
      "source": [
        "# downloading data source from  :https://datahub.io/machine-learning/bank-marketing/r/bank-marketing.csv\n",
        "# Also If you want to know more about the data, please check this link (https://datahub.io/machine-learning/bank-marketing)\n",
        "req = requests.get(\"https://datahub.io/machine-learning/bank-marketing/r/bank-marketing.csv\")\n",
        "\n",
        "url_content = req.content\n",
        "csv_file = open('bank_marketing.csv', 'wb')\n",
        "csv_file.write(url_content)\n",
        "csv_file.close()\n",
        "bank_marketing_df=pd.read_csv(\"./bank_marketing.csv\")"
      ],
      "execution_count": 2,
      "outputs": []
    },
    {
      "cell_type": "markdown",
      "metadata": {
        "id": "QX-ZlLRXXY5W"
      },
      "source": [
        "# Preprocessing "
      ]
    },
    {
      "cell_type": "code",
      "metadata": {
        "id": "5iZTqTNzjt28"
      },
      "source": [
        "# in order to better understand the data , we chaned the column name based on the source (https://datahub.io/machine-learning/bank-marketing)\n",
        "bank_marketing_df.columns=['age','job', 'marital', 'education', 'default','balance', 'housing', 'loan', 'contact','day', 'month','duration','campaign','pdays','previous', 'poutcome', 'class']"
      ],
      "execution_count": 3,
      "outputs": []
    },
    {
      "cell_type": "code",
      "metadata": {
        "colab": {
          "base_uri": "https://localhost:8080/"
        },
        "id": "Mgp-SwjBunSf",
        "outputId": "ecbec4ca-d84c-4bcf-a71f-da595570ada5"
      },
      "source": [
        "categorical_cloumns = list(bank_marketing_df.select_dtypes(include=['object']).columns)\n",
        "categorical_cloumns"
      ],
      "execution_count": 4,
      "outputs": [
        {
          "output_type": "execute_result",
          "data": {
            "text/plain": [
              "['job',\n",
              " 'marital',\n",
              " 'education',\n",
              " 'default',\n",
              " 'housing',\n",
              " 'loan',\n",
              " 'contact',\n",
              " 'month',\n",
              " 'poutcome']"
            ]
          },
          "metadata": {},
          "execution_count": 4
        }
      ]
    },
    {
      "cell_type": "code",
      "metadata": {
        "colab": {
          "base_uri": "https://localhost:8080/",
          "height": 266
        },
        "id": "qMjjOpZctZS3",
        "outputId": "9413bf77-caab-492d-e5f9-ac9b477c81be"
      },
      "source": [
        "# assuming there is a Data Engineer who takes care of the data and provides us a well-prepared data. ( Think of that the data already encoded)\n",
        "labelencoder = LabelEncoder()\n",
        "for col in categorical_cloumns:\n",
        "  bank_marketing_df[col]=labelencoder.fit_transform(bank_marketing_df[col])\n",
        "bank_marketing_df.tail(5)"
      ],
      "execution_count": 5,
      "outputs": [
        {
          "output_type": "execute_result",
          "data": {
            "text/plain": [
              "       age  job  marital  education  default  balance  housing  loan  contact  \\\n",
              "45206   51    9        1          2        0      825        0     0        0   \n",
              "45207   71    5        0          0        0     1729        0     0        0   \n",
              "45208   72    5        1          1        0     5715        0     0        0   \n",
              "45209   57    1        1          1        0      668        0     0        1   \n",
              "45210   37    2        1          1        0     2971        0     0        0   \n",
              "\n",
              "       day  month  duration  campaign  pdays  previous  poutcome  class  \n",
              "45206   17      9       977         3     -1         0         3      2  \n",
              "45207   17      9       456         2     -1         0         3      2  \n",
              "45208   17      9      1127         5    184         3         2      2  \n",
              "45209   17      9       508         4     -1         0         3      1  \n",
              "45210   17      9       361         2    188        11         1      1  "
            ],
            "text/html": [
              "\n",
              "  <div id=\"df-c6636264-abf2-4e60-87b7-788f43eff32f\">\n",
              "    <div class=\"colab-df-container\">\n",
              "      <div>\n",
              "<style scoped>\n",
              "    .dataframe tbody tr th:only-of-type {\n",
              "        vertical-align: middle;\n",
              "    }\n",
              "\n",
              "    .dataframe tbody tr th {\n",
              "        vertical-align: top;\n",
              "    }\n",
              "\n",
              "    .dataframe thead th {\n",
              "        text-align: right;\n",
              "    }\n",
              "</style>\n",
              "<table border=\"1\" class=\"dataframe\">\n",
              "  <thead>\n",
              "    <tr style=\"text-align: right;\">\n",
              "      <th></th>\n",
              "      <th>age</th>\n",
              "      <th>job</th>\n",
              "      <th>marital</th>\n",
              "      <th>education</th>\n",
              "      <th>default</th>\n",
              "      <th>balance</th>\n",
              "      <th>housing</th>\n",
              "      <th>loan</th>\n",
              "      <th>contact</th>\n",
              "      <th>day</th>\n",
              "      <th>month</th>\n",
              "      <th>duration</th>\n",
              "      <th>campaign</th>\n",
              "      <th>pdays</th>\n",
              "      <th>previous</th>\n",
              "      <th>poutcome</th>\n",
              "      <th>class</th>\n",
              "    </tr>\n",
              "  </thead>\n",
              "  <tbody>\n",
              "    <tr>\n",
              "      <th>45206</th>\n",
              "      <td>51</td>\n",
              "      <td>9</td>\n",
              "      <td>1</td>\n",
              "      <td>2</td>\n",
              "      <td>0</td>\n",
              "      <td>825</td>\n",
              "      <td>0</td>\n",
              "      <td>0</td>\n",
              "      <td>0</td>\n",
              "      <td>17</td>\n",
              "      <td>9</td>\n",
              "      <td>977</td>\n",
              "      <td>3</td>\n",
              "      <td>-1</td>\n",
              "      <td>0</td>\n",
              "      <td>3</td>\n",
              "      <td>2</td>\n",
              "    </tr>\n",
              "    <tr>\n",
              "      <th>45207</th>\n",
              "      <td>71</td>\n",
              "      <td>5</td>\n",
              "      <td>0</td>\n",
              "      <td>0</td>\n",
              "      <td>0</td>\n",
              "      <td>1729</td>\n",
              "      <td>0</td>\n",
              "      <td>0</td>\n",
              "      <td>0</td>\n",
              "      <td>17</td>\n",
              "      <td>9</td>\n",
              "      <td>456</td>\n",
              "      <td>2</td>\n",
              "      <td>-1</td>\n",
              "      <td>0</td>\n",
              "      <td>3</td>\n",
              "      <td>2</td>\n",
              "    </tr>\n",
              "    <tr>\n",
              "      <th>45208</th>\n",
              "      <td>72</td>\n",
              "      <td>5</td>\n",
              "      <td>1</td>\n",
              "      <td>1</td>\n",
              "      <td>0</td>\n",
              "      <td>5715</td>\n",
              "      <td>0</td>\n",
              "      <td>0</td>\n",
              "      <td>0</td>\n",
              "      <td>17</td>\n",
              "      <td>9</td>\n",
              "      <td>1127</td>\n",
              "      <td>5</td>\n",
              "      <td>184</td>\n",
              "      <td>3</td>\n",
              "      <td>2</td>\n",
              "      <td>2</td>\n",
              "    </tr>\n",
              "    <tr>\n",
              "      <th>45209</th>\n",
              "      <td>57</td>\n",
              "      <td>1</td>\n",
              "      <td>1</td>\n",
              "      <td>1</td>\n",
              "      <td>0</td>\n",
              "      <td>668</td>\n",
              "      <td>0</td>\n",
              "      <td>0</td>\n",
              "      <td>1</td>\n",
              "      <td>17</td>\n",
              "      <td>9</td>\n",
              "      <td>508</td>\n",
              "      <td>4</td>\n",
              "      <td>-1</td>\n",
              "      <td>0</td>\n",
              "      <td>3</td>\n",
              "      <td>1</td>\n",
              "    </tr>\n",
              "    <tr>\n",
              "      <th>45210</th>\n",
              "      <td>37</td>\n",
              "      <td>2</td>\n",
              "      <td>1</td>\n",
              "      <td>1</td>\n",
              "      <td>0</td>\n",
              "      <td>2971</td>\n",
              "      <td>0</td>\n",
              "      <td>0</td>\n",
              "      <td>0</td>\n",
              "      <td>17</td>\n",
              "      <td>9</td>\n",
              "      <td>361</td>\n",
              "      <td>2</td>\n",
              "      <td>188</td>\n",
              "      <td>11</td>\n",
              "      <td>1</td>\n",
              "      <td>1</td>\n",
              "    </tr>\n",
              "  </tbody>\n",
              "</table>\n",
              "</div>\n",
              "      <button class=\"colab-df-convert\" onclick=\"convertToInteractive('df-c6636264-abf2-4e60-87b7-788f43eff32f')\"\n",
              "              title=\"Convert this dataframe to an interactive table.\"\n",
              "              style=\"display:none;\">\n",
              "        \n",
              "  <svg xmlns=\"http://www.w3.org/2000/svg\" height=\"24px\"viewBox=\"0 0 24 24\"\n",
              "       width=\"24px\">\n",
              "    <path d=\"M0 0h24v24H0V0z\" fill=\"none\"/>\n",
              "    <path d=\"M18.56 5.44l.94 2.06.94-2.06 2.06-.94-2.06-.94-.94-2.06-.94 2.06-2.06.94zm-11 1L8.5 8.5l.94-2.06 2.06-.94-2.06-.94L8.5 2.5l-.94 2.06-2.06.94zm10 10l.94 2.06.94-2.06 2.06-.94-2.06-.94-.94-2.06-.94 2.06-2.06.94z\"/><path d=\"M17.41 7.96l-1.37-1.37c-.4-.4-.92-.59-1.43-.59-.52 0-1.04.2-1.43.59L10.3 9.45l-7.72 7.72c-.78.78-.78 2.05 0 2.83L4 21.41c.39.39.9.59 1.41.59.51 0 1.02-.2 1.41-.59l7.78-7.78 2.81-2.81c.8-.78.8-2.07 0-2.86zM5.41 20L4 18.59l7.72-7.72 1.47 1.35L5.41 20z\"/>\n",
              "  </svg>\n",
              "      </button>\n",
              "      \n",
              "  <style>\n",
              "    .colab-df-container {\n",
              "      display:flex;\n",
              "      flex-wrap:wrap;\n",
              "      gap: 12px;\n",
              "    }\n",
              "\n",
              "    .colab-df-convert {\n",
              "      background-color: #E8F0FE;\n",
              "      border: none;\n",
              "      border-radius: 50%;\n",
              "      cursor: pointer;\n",
              "      display: none;\n",
              "      fill: #1967D2;\n",
              "      height: 32px;\n",
              "      padding: 0 0 0 0;\n",
              "      width: 32px;\n",
              "    }\n",
              "\n",
              "    .colab-df-convert:hover {\n",
              "      background-color: #E2EBFA;\n",
              "      box-shadow: 0px 1px 2px rgba(60, 64, 67, 0.3), 0px 1px 3px 1px rgba(60, 64, 67, 0.15);\n",
              "      fill: #174EA6;\n",
              "    }\n",
              "\n",
              "    [theme=dark] .colab-df-convert {\n",
              "      background-color: #3B4455;\n",
              "      fill: #D2E3FC;\n",
              "    }\n",
              "\n",
              "    [theme=dark] .colab-df-convert:hover {\n",
              "      background-color: #434B5C;\n",
              "      box-shadow: 0px 1px 3px 1px rgba(0, 0, 0, 0.15);\n",
              "      filter: drop-shadow(0px 1px 2px rgba(0, 0, 0, 0.3));\n",
              "      fill: #FFFFFF;\n",
              "    }\n",
              "  </style>\n",
              "\n",
              "      <script>\n",
              "        const buttonEl =\n",
              "          document.querySelector('#df-c6636264-abf2-4e60-87b7-788f43eff32f button.colab-df-convert');\n",
              "        buttonEl.style.display =\n",
              "          google.colab.kernel.accessAllowed ? 'block' : 'none';\n",
              "\n",
              "        async function convertToInteractive(key) {\n",
              "          const element = document.querySelector('#df-c6636264-abf2-4e60-87b7-788f43eff32f');\n",
              "          const dataTable =\n",
              "            await google.colab.kernel.invokeFunction('convertToInteractive',\n",
              "                                                     [key], {});\n",
              "          if (!dataTable) return;\n",
              "\n",
              "          const docLinkHtml = 'Like what you see? Visit the ' +\n",
              "            '<a target=\"_blank\" href=https://colab.research.google.com/notebooks/data_table.ipynb>data table notebook</a>'\n",
              "            + ' to learn more about interactive tables.';\n",
              "          element.innerHTML = '';\n",
              "          dataTable['output_type'] = 'display_data';\n",
              "          await google.colab.output.renderOutput(dataTable, element);\n",
              "          const docLink = document.createElement('div');\n",
              "          docLink.innerHTML = docLinkHtml;\n",
              "          element.appendChild(docLink);\n",
              "        }\n",
              "      </script>\n",
              "    </div>\n",
              "  </div>\n",
              "  "
            ]
          },
          "metadata": {},
          "execution_count": 5
        }
      ]
    },
    {
      "cell_type": "code",
      "source": [
        "bank_marketing_df.shape"
      ],
      "metadata": {
        "colab": {
          "base_uri": "https://localhost:8080/"
        },
        "id": "r9QeLKEfUJ8W",
        "outputId": "0908288c-77ce-46a2-cf44-4d41501b1b86"
      },
      "execution_count": 6,
      "outputs": [
        {
          "output_type": "execute_result",
          "data": {
            "text/plain": [
              "(45211, 17)"
            ]
          },
          "metadata": {},
          "execution_count": 6
        }
      ]
    },
    {
      "cell_type": "code",
      "source": [
        "# Get a sample of the data\n",
        "bank_marketing_df_sample=bank_marketing_df.sample(20000)"
      ],
      "metadata": {
        "id": "hLQ4Kzn9D1_7"
      },
      "execution_count": 7,
      "outputs": []
    },
    {
      "cell_type": "markdown",
      "metadata": {
        "id": "8o7hv0reg4Co"
      },
      "source": [
        "# Fit the Gradient Boosting Classifier\n",
        "in this section we would like to apply Gradient Boosting Classifier algorithm on the dataset. As we do not apply hyperparameter tuping"
      ]
    },
    {
      "cell_type": "code",
      "metadata": {
        "id": "PQRoIVsUh7LG"
      },
      "source": [
        "# let us create our train and test set (it is not good practice but let us keep it simple, feel free to add more set (train,val and test) or apply CV)\n",
        "y=bank_marketing_df_sample['class']\n",
        "X=bank_marketing_df_sample.drop('class',1)\n",
        "X_train, X_test, y_train, y_test = train_test_split(X,y, test_size = 0.33, random_state = 2021)"
      ],
      "execution_count": 8,
      "outputs": []
    },
    {
      "cell_type": "code",
      "metadata": {
        "id": "1Gk6W3kykAAC"
      },
      "source": [
        "scaler = StandardScaler()\n",
        "X_train=scaler.fit_transform(X_train)\n",
        "X_test=scaler.transform(X_test)"
      ],
      "execution_count": 9,
      "outputs": []
    },
    {
      "cell_type": "code",
      "metadata": {
        "id": "3urxJNOz9lGJ"
      },
      "source": [
        "gb_model = GradientBoostingClassifier(random_state=2021).fit(X_train, y_train)"
      ],
      "execution_count": 10,
      "outputs": []
    },
    {
      "cell_type": "code",
      "metadata": {
        "id": "ysd_NknS-8zJ"
      },
      "source": [
        "y_pred_gb = gb_model.predict(X_test)"
      ],
      "execution_count": 11,
      "outputs": []
    },
    {
      "cell_type": "markdown",
      "metadata": {
        "id": "6isTD1H3XtsQ"
      },
      "source": [
        "##  Balanced accuracy score "
      ]
    },
    {
      "cell_type": "code",
      "metadata": {
        "colab": {
          "base_uri": "https://localhost:8080/"
        },
        "id": "9xTgt82Q_wWJ",
        "outputId": "6866640a-3481-4418-e167-4750f8012d11"
      },
      "source": [
        "# what do you thnik about the accuracy\n",
        "balanced_accuracy_score_gb=balanced_accuracy_score(y_test,y_pred_gb)\n",
        "print(\"Balanced accuracy score for Gradient Boosting Classifier model \",balanced_accuracy_score_gb )"
      ],
      "execution_count": 12,
      "outputs": [
        {
          "output_type": "stream",
          "name": "stdout",
          "text": [
            "Balanced accuracy score for Gradient Boosting Classifier model  0.6878975754826352\n"
          ]
        }
      ]
    },
    {
      "cell_type": "markdown",
      "metadata": {
        "id": "OPP3GWs9l1o9"
      },
      "source": [
        "# Now, Time to apply HPO in practice"
      ]
    },
    {
      "cell_type": "code",
      "metadata": {
        "id": "vV8p5GemmAts"
      },
      "source": [
        "# try to define your search space by changing the following dict.\n",
        "SEARCH_PARAMS = {'learning_rate': np.logspace(0.01, 1, 3),\n",
        "                    'criterion': [\"mse\"],\n",
        "                    'n_estimators': np.linspace(10, 200, 3).astype(\"int\"),\n",
        "                    'max_depth': np.linspace(1,5,3).astype(\"int\"),\n",
        "                    'min_samples_split': np.array([2,5]),\n",
        "                    'min_samples_leaf': np.array([1,5]), \n",
        "                    #'max_features': [\"auto\"]\n",
        "                    }"
      ],
      "execution_count": 59,
      "outputs": []
    },
    {
      "cell_type": "markdown",
      "metadata": {
        "id": "_0fKqstj7x0H"
      },
      "source": [
        "# Grid Search "
      ]
    },
    {
      "cell_type": "code",
      "metadata": {
        "id": "D9hw82q2qfsQ"
      },
      "source": [
        "from sklearn.model_selection import  GridSearchCV\n",
        "\n",
        "#Your code start here\n",
        "# gb_grid=\n",
        "gb_grid= GridSearchCV(estimator= gb_model, param_grid= SEARCH_PARAMS, scoring='balanced_accuracy', cv=2 , verbose=2)\n",
        "#Your code end here"
      ],
      "execution_count": 60,
      "outputs": []
    },
    {
      "cell_type": "code",
      "metadata": {
        "id": "3xrigVBvrEJg",
        "colab": {
          "base_uri": "https://localhost:8080/"
        },
        "outputId": "7eeb642b-24c8-4511-bd73-0491193d7c09"
      },
      "source": [
        "gb_grid.fit(X_train, y_train)"
      ],
      "execution_count": 61,
      "outputs": [
        {
          "output_type": "stream",
          "name": "stdout",
          "text": [
            "Fitting 2 folds for each of 108 candidates, totalling 216 fits\n",
            "[CV] END criterion=mse, learning_rate=1.023292992280754, max_depth=1, min_samples_leaf=1, min_samples_split=2, n_estimators=10; total time=   0.1s\n",
            "[CV] END criterion=mse, learning_rate=1.023292992280754, max_depth=1, min_samples_leaf=1, min_samples_split=2, n_estimators=10; total time=   0.1s\n",
            "[CV] END criterion=mse, learning_rate=1.023292992280754, max_depth=1, min_samples_leaf=1, min_samples_split=2, n_estimators=105; total time=   0.5s\n",
            "[CV] END criterion=mse, learning_rate=1.023292992280754, max_depth=1, min_samples_leaf=1, min_samples_split=2, n_estimators=105; total time=   0.5s\n",
            "[CV] END criterion=mse, learning_rate=1.023292992280754, max_depth=1, min_samples_leaf=1, min_samples_split=2, n_estimators=200; total time=   0.9s\n",
            "[CV] END criterion=mse, learning_rate=1.023292992280754, max_depth=1, min_samples_leaf=1, min_samples_split=2, n_estimators=200; total time=   0.9s\n",
            "[CV] END criterion=mse, learning_rate=1.023292992280754, max_depth=1, min_samples_leaf=1, min_samples_split=5, n_estimators=10; total time=   0.1s\n",
            "[CV] END criterion=mse, learning_rate=1.023292992280754, max_depth=1, min_samples_leaf=1, min_samples_split=5, n_estimators=10; total time=   0.1s\n",
            "[CV] END criterion=mse, learning_rate=1.023292992280754, max_depth=1, min_samples_leaf=1, min_samples_split=5, n_estimators=105; total time=   0.4s\n",
            "[CV] END criterion=mse, learning_rate=1.023292992280754, max_depth=1, min_samples_leaf=1, min_samples_split=5, n_estimators=105; total time=   0.5s\n",
            "[CV] END criterion=mse, learning_rate=1.023292992280754, max_depth=1, min_samples_leaf=1, min_samples_split=5, n_estimators=200; total time=   0.8s\n",
            "[CV] END criterion=mse, learning_rate=1.023292992280754, max_depth=1, min_samples_leaf=1, min_samples_split=5, n_estimators=200; total time=   0.8s\n",
            "[CV] END criterion=mse, learning_rate=1.023292992280754, max_depth=1, min_samples_leaf=5, min_samples_split=2, n_estimators=10; total time=   0.1s\n",
            "[CV] END criterion=mse, learning_rate=1.023292992280754, max_depth=1, min_samples_leaf=5, min_samples_split=2, n_estimators=10; total time=   0.1s\n",
            "[CV] END criterion=mse, learning_rate=1.023292992280754, max_depth=1, min_samples_leaf=5, min_samples_split=2, n_estimators=105; total time=   0.5s\n",
            "[CV] END criterion=mse, learning_rate=1.023292992280754, max_depth=1, min_samples_leaf=5, min_samples_split=2, n_estimators=105; total time=   0.4s\n",
            "[CV] END criterion=mse, learning_rate=1.023292992280754, max_depth=1, min_samples_leaf=5, min_samples_split=2, n_estimators=200; total time=   0.8s\n",
            "[CV] END criterion=mse, learning_rate=1.023292992280754, max_depth=1, min_samples_leaf=5, min_samples_split=2, n_estimators=200; total time=   0.9s\n",
            "[CV] END criterion=mse, learning_rate=1.023292992280754, max_depth=1, min_samples_leaf=5, min_samples_split=5, n_estimators=10; total time=   0.0s\n",
            "[CV] END criterion=mse, learning_rate=1.023292992280754, max_depth=1, min_samples_leaf=5, min_samples_split=5, n_estimators=10; total time=   0.1s\n",
            "[CV] END criterion=mse, learning_rate=1.023292992280754, max_depth=1, min_samples_leaf=5, min_samples_split=5, n_estimators=105; total time=   0.4s\n",
            "[CV] END criterion=mse, learning_rate=1.023292992280754, max_depth=1, min_samples_leaf=5, min_samples_split=5, n_estimators=105; total time=   0.5s\n",
            "[CV] END criterion=mse, learning_rate=1.023292992280754, max_depth=1, min_samples_leaf=5, min_samples_split=5, n_estimators=200; total time=   0.9s\n",
            "[CV] END criterion=mse, learning_rate=1.023292992280754, max_depth=1, min_samples_leaf=5, min_samples_split=5, n_estimators=200; total time=   0.9s\n",
            "[CV] END criterion=mse, learning_rate=1.023292992280754, max_depth=3, min_samples_leaf=1, min_samples_split=2, n_estimators=10; total time=   0.1s\n",
            "[CV] END criterion=mse, learning_rate=1.023292992280754, max_depth=3, min_samples_leaf=1, min_samples_split=2, n_estimators=10; total time=   0.1s\n",
            "[CV] END criterion=mse, learning_rate=1.023292992280754, max_depth=3, min_samples_leaf=1, min_samples_split=2, n_estimators=105; total time=   1.1s\n",
            "[CV] END criterion=mse, learning_rate=1.023292992280754, max_depth=3, min_samples_leaf=1, min_samples_split=2, n_estimators=105; total time=   1.1s\n",
            "[CV] END criterion=mse, learning_rate=1.023292992280754, max_depth=3, min_samples_leaf=1, min_samples_split=2, n_estimators=200; total time=   2.1s\n",
            "[CV] END criterion=mse, learning_rate=1.023292992280754, max_depth=3, min_samples_leaf=1, min_samples_split=2, n_estimators=200; total time=   2.1s\n",
            "[CV] END criterion=mse, learning_rate=1.023292992280754, max_depth=3, min_samples_leaf=1, min_samples_split=5, n_estimators=10; total time=   0.1s\n",
            "[CV] END criterion=mse, learning_rate=1.023292992280754, max_depth=3, min_samples_leaf=1, min_samples_split=5, n_estimators=10; total time=   0.1s\n",
            "[CV] END criterion=mse, learning_rate=1.023292992280754, max_depth=3, min_samples_leaf=1, min_samples_split=5, n_estimators=105; total time=   1.1s\n",
            "[CV] END criterion=mse, learning_rate=1.023292992280754, max_depth=3, min_samples_leaf=1, min_samples_split=5, n_estimators=105; total time=   1.1s\n",
            "[CV] END criterion=mse, learning_rate=1.023292992280754, max_depth=3, min_samples_leaf=1, min_samples_split=5, n_estimators=200; total time=   2.1s\n",
            "[CV] END criterion=mse, learning_rate=1.023292992280754, max_depth=3, min_samples_leaf=1, min_samples_split=5, n_estimators=200; total time=   2.1s\n",
            "[CV] END criterion=mse, learning_rate=1.023292992280754, max_depth=3, min_samples_leaf=5, min_samples_split=2, n_estimators=10; total time=   0.1s\n",
            "[CV] END criterion=mse, learning_rate=1.023292992280754, max_depth=3, min_samples_leaf=5, min_samples_split=2, n_estimators=10; total time=   0.1s\n",
            "[CV] END criterion=mse, learning_rate=1.023292992280754, max_depth=3, min_samples_leaf=5, min_samples_split=2, n_estimators=105; total time=   1.1s\n",
            "[CV] END criterion=mse, learning_rate=1.023292992280754, max_depth=3, min_samples_leaf=5, min_samples_split=2, n_estimators=105; total time=   1.1s\n",
            "[CV] END criterion=mse, learning_rate=1.023292992280754, max_depth=3, min_samples_leaf=5, min_samples_split=2, n_estimators=200; total time=   2.1s\n",
            "[CV] END criterion=mse, learning_rate=1.023292992280754, max_depth=3, min_samples_leaf=5, min_samples_split=2, n_estimators=200; total time=   2.1s\n",
            "[CV] END criterion=mse, learning_rate=1.023292992280754, max_depth=3, min_samples_leaf=5, min_samples_split=5, n_estimators=10; total time=   0.1s\n",
            "[CV] END criterion=mse, learning_rate=1.023292992280754, max_depth=3, min_samples_leaf=5, min_samples_split=5, n_estimators=10; total time=   0.1s\n",
            "[CV] END criterion=mse, learning_rate=1.023292992280754, max_depth=3, min_samples_leaf=5, min_samples_split=5, n_estimators=105; total time=   1.1s\n",
            "[CV] END criterion=mse, learning_rate=1.023292992280754, max_depth=3, min_samples_leaf=5, min_samples_split=5, n_estimators=105; total time=   1.1s\n",
            "[CV] END criterion=mse, learning_rate=1.023292992280754, max_depth=3, min_samples_leaf=5, min_samples_split=5, n_estimators=200; total time=   2.1s\n",
            "[CV] END criterion=mse, learning_rate=1.023292992280754, max_depth=3, min_samples_leaf=5, min_samples_split=5, n_estimators=200; total time=   2.1s\n",
            "[CV] END criterion=mse, learning_rate=1.023292992280754, max_depth=5, min_samples_leaf=1, min_samples_split=2, n_estimators=10; total time=   0.2s\n",
            "[CV] END criterion=mse, learning_rate=1.023292992280754, max_depth=5, min_samples_leaf=1, min_samples_split=2, n_estimators=10; total time=   0.2s\n",
            "[CV] END criterion=mse, learning_rate=1.023292992280754, max_depth=5, min_samples_leaf=1, min_samples_split=2, n_estimators=105; total time=   1.8s\n",
            "[CV] END criterion=mse, learning_rate=1.023292992280754, max_depth=5, min_samples_leaf=1, min_samples_split=2, n_estimators=105; total time=   1.8s\n",
            "[CV] END criterion=mse, learning_rate=1.023292992280754, max_depth=5, min_samples_leaf=1, min_samples_split=2, n_estimators=200; total time=   3.4s\n",
            "[CV] END criterion=mse, learning_rate=1.023292992280754, max_depth=5, min_samples_leaf=1, min_samples_split=2, n_estimators=200; total time=   3.4s\n",
            "[CV] END criterion=mse, learning_rate=1.023292992280754, max_depth=5, min_samples_leaf=1, min_samples_split=5, n_estimators=10; total time=   0.2s\n",
            "[CV] END criterion=mse, learning_rate=1.023292992280754, max_depth=5, min_samples_leaf=1, min_samples_split=5, n_estimators=10; total time=   0.2s\n",
            "[CV] END criterion=mse, learning_rate=1.023292992280754, max_depth=5, min_samples_leaf=1, min_samples_split=5, n_estimators=105; total time=   1.8s\n",
            "[CV] END criterion=mse, learning_rate=1.023292992280754, max_depth=5, min_samples_leaf=1, min_samples_split=5, n_estimators=105; total time=   1.8s\n",
            "[CV] END criterion=mse, learning_rate=1.023292992280754, max_depth=5, min_samples_leaf=1, min_samples_split=5, n_estimators=200; total time=   3.3s\n",
            "[CV] END criterion=mse, learning_rate=1.023292992280754, max_depth=5, min_samples_leaf=1, min_samples_split=5, n_estimators=200; total time=   3.3s\n",
            "[CV] END criterion=mse, learning_rate=1.023292992280754, max_depth=5, min_samples_leaf=5, min_samples_split=2, n_estimators=10; total time=   0.2s\n",
            "[CV] END criterion=mse, learning_rate=1.023292992280754, max_depth=5, min_samples_leaf=5, min_samples_split=2, n_estimators=10; total time=   0.2s\n",
            "[CV] END criterion=mse, learning_rate=1.023292992280754, max_depth=5, min_samples_leaf=5, min_samples_split=2, n_estimators=105; total time=   1.8s\n",
            "[CV] END criterion=mse, learning_rate=1.023292992280754, max_depth=5, min_samples_leaf=5, min_samples_split=2, n_estimators=105; total time=   1.8s\n",
            "[CV] END criterion=mse, learning_rate=1.023292992280754, max_depth=5, min_samples_leaf=5, min_samples_split=2, n_estimators=200; total time=   3.4s\n",
            "[CV] END criterion=mse, learning_rate=1.023292992280754, max_depth=5, min_samples_leaf=5, min_samples_split=2, n_estimators=200; total time=   3.3s\n",
            "[CV] END criterion=mse, learning_rate=1.023292992280754, max_depth=5, min_samples_leaf=5, min_samples_split=5, n_estimators=10; total time=   0.2s\n",
            "[CV] END criterion=mse, learning_rate=1.023292992280754, max_depth=5, min_samples_leaf=5, min_samples_split=5, n_estimators=10; total time=   0.2s\n",
            "[CV] END criterion=mse, learning_rate=1.023292992280754, max_depth=5, min_samples_leaf=5, min_samples_split=5, n_estimators=105; total time=   1.8s\n",
            "[CV] END criterion=mse, learning_rate=1.023292992280754, max_depth=5, min_samples_leaf=5, min_samples_split=5, n_estimators=105; total time=   1.8s\n",
            "[CV] END criterion=mse, learning_rate=1.023292992280754, max_depth=5, min_samples_leaf=5, min_samples_split=5, n_estimators=200; total time=   3.3s\n",
            "[CV] END criterion=mse, learning_rate=1.023292992280754, max_depth=5, min_samples_leaf=5, min_samples_split=5, n_estimators=200; total time=   6.2s\n",
            "[CV] END criterion=mse, learning_rate=3.198895109691398, max_depth=1, min_samples_leaf=1, min_samples_split=2, n_estimators=10; total time=   0.1s\n",
            "[CV] END criterion=mse, learning_rate=3.198895109691398, max_depth=1, min_samples_leaf=1, min_samples_split=2, n_estimators=10; total time=   0.1s\n",
            "[CV] END criterion=mse, learning_rate=3.198895109691398, max_depth=1, min_samples_leaf=1, min_samples_split=2, n_estimators=105; total time=   0.5s\n",
            "[CV] END criterion=mse, learning_rate=3.198895109691398, max_depth=1, min_samples_leaf=1, min_samples_split=2, n_estimators=105; total time=   0.5s\n",
            "[CV] END criterion=mse, learning_rate=3.198895109691398, max_depth=1, min_samples_leaf=1, min_samples_split=2, n_estimators=200; total time=   0.9s\n",
            "[CV] END criterion=mse, learning_rate=3.198895109691398, max_depth=1, min_samples_leaf=1, min_samples_split=2, n_estimators=200; total time=   0.9s\n",
            "[CV] END criterion=mse, learning_rate=3.198895109691398, max_depth=1, min_samples_leaf=1, min_samples_split=5, n_estimators=10; total time=   0.1s\n",
            "[CV] END criterion=mse, learning_rate=3.198895109691398, max_depth=1, min_samples_leaf=1, min_samples_split=5, n_estimators=10; total time=   0.1s\n",
            "[CV] END criterion=mse, learning_rate=3.198895109691398, max_depth=1, min_samples_leaf=1, min_samples_split=5, n_estimators=105; total time=   0.4s\n",
            "[CV] END criterion=mse, learning_rate=3.198895109691398, max_depth=1, min_samples_leaf=1, min_samples_split=5, n_estimators=105; total time=   0.5s\n",
            "[CV] END criterion=mse, learning_rate=3.198895109691398, max_depth=1, min_samples_leaf=1, min_samples_split=5, n_estimators=200; total time=   0.8s\n",
            "[CV] END criterion=mse, learning_rate=3.198895109691398, max_depth=1, min_samples_leaf=1, min_samples_split=5, n_estimators=200; total time=   0.8s\n",
            "[CV] END criterion=mse, learning_rate=3.198895109691398, max_depth=1, min_samples_leaf=5, min_samples_split=2, n_estimators=10; total time=   0.1s\n",
            "[CV] END criterion=mse, learning_rate=3.198895109691398, max_depth=1, min_samples_leaf=5, min_samples_split=2, n_estimators=10; total time=   0.1s\n",
            "[CV] END criterion=mse, learning_rate=3.198895109691398, max_depth=1, min_samples_leaf=5, min_samples_split=2, n_estimators=105; total time=   0.5s\n",
            "[CV] END criterion=mse, learning_rate=3.198895109691398, max_depth=1, min_samples_leaf=5, min_samples_split=2, n_estimators=105; total time=   0.5s\n",
            "[CV] END criterion=mse, learning_rate=3.198895109691398, max_depth=1, min_samples_leaf=5, min_samples_split=2, n_estimators=200; total time=   0.9s\n",
            "[CV] END criterion=mse, learning_rate=3.198895109691398, max_depth=1, min_samples_leaf=5, min_samples_split=2, n_estimators=200; total time=   0.9s\n",
            "[CV] END criterion=mse, learning_rate=3.198895109691398, max_depth=1, min_samples_leaf=5, min_samples_split=5, n_estimators=10; total time=   0.1s\n",
            "[CV] END criterion=mse, learning_rate=3.198895109691398, max_depth=1, min_samples_leaf=5, min_samples_split=5, n_estimators=10; total time=   0.1s\n",
            "[CV] END criterion=mse, learning_rate=3.198895109691398, max_depth=1, min_samples_leaf=5, min_samples_split=5, n_estimators=105; total time=   0.5s\n",
            "[CV] END criterion=mse, learning_rate=3.198895109691398, max_depth=1, min_samples_leaf=5, min_samples_split=5, n_estimators=105; total time=   0.5s\n",
            "[CV] END criterion=mse, learning_rate=3.198895109691398, max_depth=1, min_samples_leaf=5, min_samples_split=5, n_estimators=200; total time=   0.9s\n",
            "[CV] END criterion=mse, learning_rate=3.198895109691398, max_depth=1, min_samples_leaf=5, min_samples_split=5, n_estimators=200; total time=   0.9s\n",
            "[CV] END criterion=mse, learning_rate=3.198895109691398, max_depth=3, min_samples_leaf=1, min_samples_split=2, n_estimators=10; total time=   0.1s\n",
            "[CV] END criterion=mse, learning_rate=3.198895109691398, max_depth=3, min_samples_leaf=1, min_samples_split=2, n_estimators=10; total time=   0.1s\n",
            "[CV] END criterion=mse, learning_rate=3.198895109691398, max_depth=3, min_samples_leaf=1, min_samples_split=2, n_estimators=105; total time=   1.2s\n",
            "[CV] END criterion=mse, learning_rate=3.198895109691398, max_depth=3, min_samples_leaf=1, min_samples_split=2, n_estimators=105; total time=   1.2s\n",
            "[CV] END criterion=mse, learning_rate=3.198895109691398, max_depth=3, min_samples_leaf=1, min_samples_split=2, n_estimators=200; total time=   2.3s\n",
            "[CV] END criterion=mse, learning_rate=3.198895109691398, max_depth=3, min_samples_leaf=1, min_samples_split=2, n_estimators=200; total time=   2.4s\n",
            "[CV] END criterion=mse, learning_rate=3.198895109691398, max_depth=3, min_samples_leaf=1, min_samples_split=5, n_estimators=10; total time=   0.1s\n",
            "[CV] END criterion=mse, learning_rate=3.198895109691398, max_depth=3, min_samples_leaf=1, min_samples_split=5, n_estimators=10; total time=   0.1s\n",
            "[CV] END criterion=mse, learning_rate=3.198895109691398, max_depth=3, min_samples_leaf=1, min_samples_split=5, n_estimators=105; total time=   1.3s\n",
            "[CV] END criterion=mse, learning_rate=3.198895109691398, max_depth=3, min_samples_leaf=1, min_samples_split=5, n_estimators=105; total time=   1.3s\n",
            "[CV] END criterion=mse, learning_rate=3.198895109691398, max_depth=3, min_samples_leaf=1, min_samples_split=5, n_estimators=200; total time=   2.2s\n",
            "[CV] END criterion=mse, learning_rate=3.198895109691398, max_depth=3, min_samples_leaf=1, min_samples_split=5, n_estimators=200; total time=   2.2s\n",
            "[CV] END criterion=mse, learning_rate=3.198895109691398, max_depth=3, min_samples_leaf=5, min_samples_split=2, n_estimators=10; total time=   0.1s\n",
            "[CV] END criterion=mse, learning_rate=3.198895109691398, max_depth=3, min_samples_leaf=5, min_samples_split=2, n_estimators=10; total time=   0.1s\n",
            "[CV] END criterion=mse, learning_rate=3.198895109691398, max_depth=3, min_samples_leaf=5, min_samples_split=2, n_estimators=105; total time=   1.2s\n",
            "[CV] END criterion=mse, learning_rate=3.198895109691398, max_depth=3, min_samples_leaf=5, min_samples_split=2, n_estimators=105; total time=   1.2s\n",
            "[CV] END criterion=mse, learning_rate=3.198895109691398, max_depth=3, min_samples_leaf=5, min_samples_split=2, n_estimators=200; total time=   2.2s\n",
            "[CV] END criterion=mse, learning_rate=3.198895109691398, max_depth=3, min_samples_leaf=5, min_samples_split=2, n_estimators=200; total time=   2.2s\n",
            "[CV] END criterion=mse, learning_rate=3.198895109691398, max_depth=3, min_samples_leaf=5, min_samples_split=5, n_estimators=10; total time=   0.1s\n",
            "[CV] END criterion=mse, learning_rate=3.198895109691398, max_depth=3, min_samples_leaf=5, min_samples_split=5, n_estimators=10; total time=   0.1s\n",
            "[CV] END criterion=mse, learning_rate=3.198895109691398, max_depth=3, min_samples_leaf=5, min_samples_split=5, n_estimators=105; total time=   1.1s\n",
            "[CV] END criterion=mse, learning_rate=3.198895109691398, max_depth=3, min_samples_leaf=5, min_samples_split=5, n_estimators=105; total time=   1.1s\n",
            "[CV] END criterion=mse, learning_rate=3.198895109691398, max_depth=3, min_samples_leaf=5, min_samples_split=5, n_estimators=200; total time=   2.1s\n",
            "[CV] END criterion=mse, learning_rate=3.198895109691398, max_depth=3, min_samples_leaf=5, min_samples_split=5, n_estimators=200; total time=   2.1s\n",
            "[CV] END criterion=mse, learning_rate=3.198895109691398, max_depth=5, min_samples_leaf=1, min_samples_split=2, n_estimators=10; total time=   0.2s\n",
            "[CV] END criterion=mse, learning_rate=3.198895109691398, max_depth=5, min_samples_leaf=1, min_samples_split=2, n_estimators=10; total time=   0.2s\n",
            "[CV] END criterion=mse, learning_rate=3.198895109691398, max_depth=5, min_samples_leaf=1, min_samples_split=2, n_estimators=105; total time=   1.8s\n",
            "[CV] END criterion=mse, learning_rate=3.198895109691398, max_depth=5, min_samples_leaf=1, min_samples_split=2, n_estimators=105; total time=   1.8s\n",
            "[CV] END criterion=mse, learning_rate=3.198895109691398, max_depth=5, min_samples_leaf=1, min_samples_split=2, n_estimators=200; total time=   3.4s\n",
            "[CV] END criterion=mse, learning_rate=3.198895109691398, max_depth=5, min_samples_leaf=1, min_samples_split=2, n_estimators=200; total time=   3.4s\n",
            "[CV] END criterion=mse, learning_rate=3.198895109691398, max_depth=5, min_samples_leaf=1, min_samples_split=5, n_estimators=10; total time=   0.2s\n",
            "[CV] END criterion=mse, learning_rate=3.198895109691398, max_depth=5, min_samples_leaf=1, min_samples_split=5, n_estimators=10; total time=   0.2s\n",
            "[CV] END criterion=mse, learning_rate=3.198895109691398, max_depth=5, min_samples_leaf=1, min_samples_split=5, n_estimators=105; total time=   1.8s\n",
            "[CV] END criterion=mse, learning_rate=3.198895109691398, max_depth=5, min_samples_leaf=1, min_samples_split=5, n_estimators=105; total time=   1.8s\n",
            "[CV] END criterion=mse, learning_rate=3.198895109691398, max_depth=5, min_samples_leaf=1, min_samples_split=5, n_estimators=200; total time=   3.4s\n",
            "[CV] END criterion=mse, learning_rate=3.198895109691398, max_depth=5, min_samples_leaf=1, min_samples_split=5, n_estimators=200; total time=   3.4s\n",
            "[CV] END criterion=mse, learning_rate=3.198895109691398, max_depth=5, min_samples_leaf=5, min_samples_split=2, n_estimators=10; total time=   0.2s\n",
            "[CV] END criterion=mse, learning_rate=3.198895109691398, max_depth=5, min_samples_leaf=5, min_samples_split=2, n_estimators=10; total time=   0.2s\n",
            "[CV] END criterion=mse, learning_rate=3.198895109691398, max_depth=5, min_samples_leaf=5, min_samples_split=2, n_estimators=105; total time=   1.8s\n",
            "[CV] END criterion=mse, learning_rate=3.198895109691398, max_depth=5, min_samples_leaf=5, min_samples_split=2, n_estimators=105; total time=   1.8s\n",
            "[CV] END criterion=mse, learning_rate=3.198895109691398, max_depth=5, min_samples_leaf=5, min_samples_split=2, n_estimators=200; total time=   3.3s\n",
            "[CV] END criterion=mse, learning_rate=3.198895109691398, max_depth=5, min_samples_leaf=5, min_samples_split=2, n_estimators=200; total time=   3.4s\n",
            "[CV] END criterion=mse, learning_rate=3.198895109691398, max_depth=5, min_samples_leaf=5, min_samples_split=5, n_estimators=10; total time=   0.2s\n",
            "[CV] END criterion=mse, learning_rate=3.198895109691398, max_depth=5, min_samples_leaf=5, min_samples_split=5, n_estimators=10; total time=   0.2s\n",
            "[CV] END criterion=mse, learning_rate=3.198895109691398, max_depth=5, min_samples_leaf=5, min_samples_split=5, n_estimators=105; total time=   1.8s\n",
            "[CV] END criterion=mse, learning_rate=3.198895109691398, max_depth=5, min_samples_leaf=5, min_samples_split=5, n_estimators=105; total time=   1.8s\n",
            "[CV] END criterion=mse, learning_rate=3.198895109691398, max_depth=5, min_samples_leaf=5, min_samples_split=5, n_estimators=200; total time=   3.4s\n",
            "[CV] END criterion=mse, learning_rate=3.198895109691398, max_depth=5, min_samples_leaf=5, min_samples_split=5, n_estimators=200; total time=   3.4s\n",
            "[CV] END criterion=mse, learning_rate=10.0, max_depth=1, min_samples_leaf=1, min_samples_split=2, n_estimators=10; total time=   0.1s\n",
            "[CV] END criterion=mse, learning_rate=10.0, max_depth=1, min_samples_leaf=1, min_samples_split=2, n_estimators=10; total time=   0.1s\n",
            "[CV] END criterion=mse, learning_rate=10.0, max_depth=1, min_samples_leaf=1, min_samples_split=2, n_estimators=105; total time=   0.5s\n",
            "[CV] END criterion=mse, learning_rate=10.0, max_depth=1, min_samples_leaf=1, min_samples_split=2, n_estimators=105; total time=   0.5s\n",
            "[CV] END criterion=mse, learning_rate=10.0, max_depth=1, min_samples_leaf=1, min_samples_split=2, n_estimators=200; total time=   0.9s\n",
            "[CV] END criterion=mse, learning_rate=10.0, max_depth=1, min_samples_leaf=1, min_samples_split=2, n_estimators=200; total time=   0.9s\n",
            "[CV] END criterion=mse, learning_rate=10.0, max_depth=1, min_samples_leaf=1, min_samples_split=5, n_estimators=10; total time=   0.1s\n",
            "[CV] END criterion=mse, learning_rate=10.0, max_depth=1, min_samples_leaf=1, min_samples_split=5, n_estimators=10; total time=   0.1s\n",
            "[CV] END criterion=mse, learning_rate=10.0, max_depth=1, min_samples_leaf=1, min_samples_split=5, n_estimators=105; total time=   0.5s\n",
            "[CV] END criterion=mse, learning_rate=10.0, max_depth=1, min_samples_leaf=1, min_samples_split=5, n_estimators=105; total time=   0.5s\n",
            "[CV] END criterion=mse, learning_rate=10.0, max_depth=1, min_samples_leaf=1, min_samples_split=5, n_estimators=200; total time=   0.9s\n",
            "[CV] END criterion=mse, learning_rate=10.0, max_depth=1, min_samples_leaf=1, min_samples_split=5, n_estimators=200; total time=   0.9s\n",
            "[CV] END criterion=mse, learning_rate=10.0, max_depth=1, min_samples_leaf=5, min_samples_split=2, n_estimators=10; total time=   0.1s\n",
            "[CV] END criterion=mse, learning_rate=10.0, max_depth=1, min_samples_leaf=5, min_samples_split=2, n_estimators=10; total time=   0.1s\n",
            "[CV] END criterion=mse, learning_rate=10.0, max_depth=1, min_samples_leaf=5, min_samples_split=2, n_estimators=105; total time=   0.5s\n",
            "[CV] END criterion=mse, learning_rate=10.0, max_depth=1, min_samples_leaf=5, min_samples_split=2, n_estimators=105; total time=   0.5s\n",
            "[CV] END criterion=mse, learning_rate=10.0, max_depth=1, min_samples_leaf=5, min_samples_split=2, n_estimators=200; total time=   0.9s\n",
            "[CV] END criterion=mse, learning_rate=10.0, max_depth=1, min_samples_leaf=5, min_samples_split=2, n_estimators=200; total time=   0.9s\n",
            "[CV] END criterion=mse, learning_rate=10.0, max_depth=1, min_samples_leaf=5, min_samples_split=5, n_estimators=10; total time=   0.1s\n",
            "[CV] END criterion=mse, learning_rate=10.0, max_depth=1, min_samples_leaf=5, min_samples_split=5, n_estimators=10; total time=   0.1s\n",
            "[CV] END criterion=mse, learning_rate=10.0, max_depth=1, min_samples_leaf=5, min_samples_split=5, n_estimators=105; total time=   0.5s\n",
            "[CV] END criterion=mse, learning_rate=10.0, max_depth=1, min_samples_leaf=5, min_samples_split=5, n_estimators=105; total time=   0.5s\n",
            "[CV] END criterion=mse, learning_rate=10.0, max_depth=1, min_samples_leaf=5, min_samples_split=5, n_estimators=200; total time=   0.9s\n",
            "[CV] END criterion=mse, learning_rate=10.0, max_depth=1, min_samples_leaf=5, min_samples_split=5, n_estimators=200; total time=   0.8s\n",
            "[CV] END criterion=mse, learning_rate=10.0, max_depth=3, min_samples_leaf=1, min_samples_split=2, n_estimators=10; total time=   0.1s\n",
            "[CV] END criterion=mse, learning_rate=10.0, max_depth=3, min_samples_leaf=1, min_samples_split=2, n_estimators=10; total time=   0.1s\n",
            "[CV] END criterion=mse, learning_rate=10.0, max_depth=3, min_samples_leaf=1, min_samples_split=2, n_estimators=105; total time=   1.1s\n",
            "[CV] END criterion=mse, learning_rate=10.0, max_depth=3, min_samples_leaf=1, min_samples_split=2, n_estimators=105; total time=   1.1s\n",
            "[CV] END criterion=mse, learning_rate=10.0, max_depth=3, min_samples_leaf=1, min_samples_split=2, n_estimators=200; total time=   2.1s\n",
            "[CV] END criterion=mse, learning_rate=10.0, max_depth=3, min_samples_leaf=1, min_samples_split=2, n_estimators=200; total time=   2.1s\n",
            "[CV] END criterion=mse, learning_rate=10.0, max_depth=3, min_samples_leaf=1, min_samples_split=5, n_estimators=10; total time=   0.1s\n",
            "[CV] END criterion=mse, learning_rate=10.0, max_depth=3, min_samples_leaf=1, min_samples_split=5, n_estimators=10; total time=   0.1s\n",
            "[CV] END criterion=mse, learning_rate=10.0, max_depth=3, min_samples_leaf=1, min_samples_split=5, n_estimators=105; total time=   1.1s\n",
            "[CV] END criterion=mse, learning_rate=10.0, max_depth=3, min_samples_leaf=1, min_samples_split=5, n_estimators=105; total time=   1.1s\n",
            "[CV] END criterion=mse, learning_rate=10.0, max_depth=3, min_samples_leaf=1, min_samples_split=5, n_estimators=200; total time=   2.1s\n",
            "[CV] END criterion=mse, learning_rate=10.0, max_depth=3, min_samples_leaf=1, min_samples_split=5, n_estimators=200; total time=   2.1s\n",
            "[CV] END criterion=mse, learning_rate=10.0, max_depth=3, min_samples_leaf=5, min_samples_split=2, n_estimators=10; total time=   0.1s\n",
            "[CV] END criterion=mse, learning_rate=10.0, max_depth=3, min_samples_leaf=5, min_samples_split=2, n_estimators=10; total time=   0.1s\n",
            "[CV] END criterion=mse, learning_rate=10.0, max_depth=3, min_samples_leaf=5, min_samples_split=2, n_estimators=105; total time=   1.1s\n",
            "[CV] END criterion=mse, learning_rate=10.0, max_depth=3, min_samples_leaf=5, min_samples_split=2, n_estimators=105; total time=   1.1s\n",
            "[CV] END criterion=mse, learning_rate=10.0, max_depth=3, min_samples_leaf=5, min_samples_split=2, n_estimators=200; total time=   2.1s\n",
            "[CV] END criterion=mse, learning_rate=10.0, max_depth=3, min_samples_leaf=5, min_samples_split=2, n_estimators=200; total time=   2.1s\n",
            "[CV] END criterion=mse, learning_rate=10.0, max_depth=3, min_samples_leaf=5, min_samples_split=5, n_estimators=10; total time=   0.1s\n",
            "[CV] END criterion=mse, learning_rate=10.0, max_depth=3, min_samples_leaf=5, min_samples_split=5, n_estimators=10; total time=   0.1s\n",
            "[CV] END criterion=mse, learning_rate=10.0, max_depth=3, min_samples_leaf=5, min_samples_split=5, n_estimators=105; total time=   1.1s\n",
            "[CV] END criterion=mse, learning_rate=10.0, max_depth=3, min_samples_leaf=5, min_samples_split=5, n_estimators=105; total time=   1.1s\n",
            "[CV] END criterion=mse, learning_rate=10.0, max_depth=3, min_samples_leaf=5, min_samples_split=5, n_estimators=200; total time=   2.2s\n",
            "[CV] END criterion=mse, learning_rate=10.0, max_depth=3, min_samples_leaf=5, min_samples_split=5, n_estimators=200; total time=   2.1s\n",
            "[CV] END criterion=mse, learning_rate=10.0, max_depth=5, min_samples_leaf=1, min_samples_split=2, n_estimators=10; total time=   0.2s\n",
            "[CV] END criterion=mse, learning_rate=10.0, max_depth=5, min_samples_leaf=1, min_samples_split=2, n_estimators=10; total time=   0.2s\n",
            "[CV] END criterion=mse, learning_rate=10.0, max_depth=5, min_samples_leaf=1, min_samples_split=2, n_estimators=105; total time=   1.8s\n",
            "[CV] END criterion=mse, learning_rate=10.0, max_depth=5, min_samples_leaf=1, min_samples_split=2, n_estimators=105; total time=   1.8s\n",
            "[CV] END criterion=mse, learning_rate=10.0, max_depth=5, min_samples_leaf=1, min_samples_split=2, n_estimators=200; total time=   3.4s\n",
            "[CV] END criterion=mse, learning_rate=10.0, max_depth=5, min_samples_leaf=1, min_samples_split=2, n_estimators=200; total time=   4.7s\n",
            "[CV] END criterion=mse, learning_rate=10.0, max_depth=5, min_samples_leaf=1, min_samples_split=5, n_estimators=10; total time=   0.3s\n",
            "[CV] END criterion=mse, learning_rate=10.0, max_depth=5, min_samples_leaf=1, min_samples_split=5, n_estimators=10; total time=   0.2s\n",
            "[CV] END criterion=mse, learning_rate=10.0, max_depth=5, min_samples_leaf=1, min_samples_split=5, n_estimators=105; total time=   5.6s\n",
            "[CV] END criterion=mse, learning_rate=10.0, max_depth=5, min_samples_leaf=1, min_samples_split=5, n_estimators=105; total time=   2.7s\n",
            "[CV] END criterion=mse, learning_rate=10.0, max_depth=5, min_samples_leaf=1, min_samples_split=5, n_estimators=200; total time=   3.4s\n",
            "[CV] END criterion=mse, learning_rate=10.0, max_depth=5, min_samples_leaf=1, min_samples_split=5, n_estimators=200; total time=   3.4s\n",
            "[CV] END criterion=mse, learning_rate=10.0, max_depth=5, min_samples_leaf=5, min_samples_split=2, n_estimators=10; total time=   0.2s\n",
            "[CV] END criterion=mse, learning_rate=10.0, max_depth=5, min_samples_leaf=5, min_samples_split=2, n_estimators=10; total time=   0.2s\n",
            "[CV] END criterion=mse, learning_rate=10.0, max_depth=5, min_samples_leaf=5, min_samples_split=2, n_estimators=105; total time=   1.8s\n",
            "[CV] END criterion=mse, learning_rate=10.0, max_depth=5, min_samples_leaf=5, min_samples_split=2, n_estimators=105; total time=   1.8s\n",
            "[CV] END criterion=mse, learning_rate=10.0, max_depth=5, min_samples_leaf=5, min_samples_split=2, n_estimators=200; total time=   3.5s\n",
            "[CV] END criterion=mse, learning_rate=10.0, max_depth=5, min_samples_leaf=5, min_samples_split=2, n_estimators=200; total time=   3.4s\n",
            "[CV] END criterion=mse, learning_rate=10.0, max_depth=5, min_samples_leaf=5, min_samples_split=5, n_estimators=10; total time=   0.2s\n",
            "[CV] END criterion=mse, learning_rate=10.0, max_depth=5, min_samples_leaf=5, min_samples_split=5, n_estimators=10; total time=   0.2s\n",
            "[CV] END criterion=mse, learning_rate=10.0, max_depth=5, min_samples_leaf=5, min_samples_split=5, n_estimators=105; total time=   1.8s\n",
            "[CV] END criterion=mse, learning_rate=10.0, max_depth=5, min_samples_leaf=5, min_samples_split=5, n_estimators=105; total time=   1.8s\n",
            "[CV] END criterion=mse, learning_rate=10.0, max_depth=5, min_samples_leaf=5, min_samples_split=5, n_estimators=200; total time=   3.4s\n",
            "[CV] END criterion=mse, learning_rate=10.0, max_depth=5, min_samples_leaf=5, min_samples_split=5, n_estimators=200; total time=   3.4s\n"
          ]
        },
        {
          "output_type": "execute_result",
          "data": {
            "text/plain": [
              "GridSearchCV(cv=2, estimator=GradientBoostingClassifier(random_state=2021),\n",
              "             param_grid={'criterion': ['mse'],\n",
              "                         'learning_rate': array([ 1.02329299,  3.19889511, 10.        ]),\n",
              "                         'max_depth': array([1, 3, 5]),\n",
              "                         'min_samples_leaf': array([1, 5]),\n",
              "                         'min_samples_split': array([2, 5]),\n",
              "                         'n_estimators': array([ 10, 105, 200])},\n",
              "             scoring='balanced_accuracy', verbose=2)"
            ]
          },
          "metadata": {},
          "execution_count": 61
        }
      ]
    },
    {
      "cell_type": "code",
      "metadata": {
        "id": "GwBHI3lK92rS",
        "colab": {
          "base_uri": "https://localhost:8080/"
        },
        "outputId": "74bf21d8-7314-4d9c-8e5d-c12b07965ed6"
      },
      "source": [
        "gb_grid.best_params_"
      ],
      "execution_count": 62,
      "outputs": [
        {
          "output_type": "execute_result",
          "data": {
            "text/plain": [
              "{'criterion': 'mse',\n",
              " 'learning_rate': 1.023292992280754,\n",
              " 'max_depth': 3,\n",
              " 'min_samples_leaf': 1,\n",
              " 'min_samples_split': 2,\n",
              " 'n_estimators': 105}"
            ]
          },
          "metadata": {},
          "execution_count": 62
        }
      ]
    },
    {
      "cell_type": "code",
      "metadata": {
        "colab": {
          "base_uri": "https://localhost:8080/"
        },
        "id": "6S79j2Ju-Bzw",
        "outputId": "a5429b69-c9fb-47a7-d689-458e4f1a4710"
      },
      "source": [
        "print(f'Test Accuracy : {gb_grid.score(X_test,y_test)}')"
      ],
      "execution_count": 63,
      "outputs": [
        {
          "output_type": "stream",
          "name": "stdout",
          "text": [
            "Test Accuracy : 0.7119545676025337\n"
          ]
        }
      ]
    },
    {
      "cell_type": "markdown",
      "metadata": {
        "id": "sYWQxq335dQd"
      },
      "source": [
        "#  Random Search"
      ]
    },
    {
      "cell_type": "code",
      "metadata": {
        "id": "SH2wlvvh8L2Q"
      },
      "source": [
        "from sklearn.model_selection import RandomizedSearchCV\n",
        "\n",
        "#Your code start here\n",
        "gb_random = RandomizedSearchCV(gb_model, SEARCH_PARAMS, scoring='balanced_accuracy', cv=2 , verbose=2, random_state=2021)\n",
        "#Your code end here\n"
      ],
      "execution_count": 65,
      "outputs": []
    },
    {
      "cell_type": "code",
      "metadata": {
        "colab": {
          "base_uri": "https://localhost:8080/"
        },
        "id": "Vr4FDQXk8UvP",
        "outputId": "6d52082d-e259-4cdd-9ba1-d56e9ff9d0e3"
      },
      "source": [
        "gb_random.fit(X_train, y_train)"
      ],
      "execution_count": 66,
      "outputs": [
        {
          "output_type": "stream",
          "name": "stdout",
          "text": [
            "Fitting 2 folds for each of 10 candidates, totalling 20 fits\n",
            "[CV] END criterion=mse, learning_rate=1.023292992280754, max_depth=3, min_samples_leaf=5, min_samples_split=5, n_estimators=105; total time=   1.1s\n",
            "[CV] END criterion=mse, learning_rate=1.023292992280754, max_depth=3, min_samples_leaf=5, min_samples_split=5, n_estimators=105; total time=   1.1s\n",
            "[CV] END criterion=mse, learning_rate=3.198895109691398, max_depth=1, min_samples_leaf=1, min_samples_split=2, n_estimators=105; total time=   0.5s\n",
            "[CV] END criterion=mse, learning_rate=3.198895109691398, max_depth=1, min_samples_leaf=1, min_samples_split=2, n_estimators=105; total time=   0.5s\n",
            "[CV] END criterion=mse, learning_rate=10.0, max_depth=3, min_samples_leaf=1, min_samples_split=2, n_estimators=10; total time=   0.1s\n",
            "[CV] END criterion=mse, learning_rate=10.0, max_depth=3, min_samples_leaf=1, min_samples_split=2, n_estimators=10; total time=   0.1s\n",
            "[CV] END criterion=mse, learning_rate=1.023292992280754, max_depth=1, min_samples_leaf=1, min_samples_split=2, n_estimators=200; total time=   0.9s\n",
            "[CV] END criterion=mse, learning_rate=1.023292992280754, max_depth=1, min_samples_leaf=1, min_samples_split=2, n_estimators=200; total time=   0.9s\n",
            "[CV] END criterion=mse, learning_rate=10.0, max_depth=1, min_samples_leaf=1, min_samples_split=2, n_estimators=105; total time=   0.5s\n",
            "[CV] END criterion=mse, learning_rate=10.0, max_depth=1, min_samples_leaf=1, min_samples_split=2, n_estimators=105; total time=   0.5s\n",
            "[CV] END criterion=mse, learning_rate=1.023292992280754, max_depth=1, min_samples_leaf=5, min_samples_split=2, n_estimators=200; total time=   0.9s\n",
            "[CV] END criterion=mse, learning_rate=1.023292992280754, max_depth=1, min_samples_leaf=5, min_samples_split=2, n_estimators=200; total time=   0.9s\n",
            "[CV] END criterion=mse, learning_rate=10.0, max_depth=3, min_samples_leaf=5, min_samples_split=5, n_estimators=200; total time=   2.1s\n",
            "[CV] END criterion=mse, learning_rate=10.0, max_depth=3, min_samples_leaf=5, min_samples_split=5, n_estimators=200; total time=   2.1s\n",
            "[CV] END criterion=mse, learning_rate=10.0, max_depth=5, min_samples_leaf=1, min_samples_split=5, n_estimators=10; total time=   0.2s\n",
            "[CV] END criterion=mse, learning_rate=10.0, max_depth=5, min_samples_leaf=1, min_samples_split=5, n_estimators=10; total time=   0.2s\n",
            "[CV] END criterion=mse, learning_rate=10.0, max_depth=5, min_samples_leaf=1, min_samples_split=5, n_estimators=200; total time=   3.4s\n",
            "[CV] END criterion=mse, learning_rate=10.0, max_depth=5, min_samples_leaf=1, min_samples_split=5, n_estimators=200; total time=   3.4s\n",
            "[CV] END criterion=mse, learning_rate=10.0, max_depth=3, min_samples_leaf=1, min_samples_split=5, n_estimators=200; total time=   2.1s\n",
            "[CV] END criterion=mse, learning_rate=10.0, max_depth=3, min_samples_leaf=1, min_samples_split=5, n_estimators=200; total time=   2.1s\n"
          ]
        },
        {
          "output_type": "execute_result",
          "data": {
            "text/plain": [
              "RandomizedSearchCV(cv=2,\n",
              "                   estimator=GradientBoostingClassifier(random_state=2021),\n",
              "                   param_distributions={'criterion': ['mse'],\n",
              "                                        'learning_rate': array([ 1.02329299,  3.19889511, 10.        ]),\n",
              "                                        'max_depth': array([1, 3, 5]),\n",
              "                                        'min_samples_leaf': array([1, 5]),\n",
              "                                        'min_samples_split': array([2, 5]),\n",
              "                                        'n_estimators': array([ 10, 105, 200])},\n",
              "                   random_state=2021, scoring='balanced_accuracy', verbose=2)"
            ]
          },
          "metadata": {},
          "execution_count": 66
        }
      ]
    },
    {
      "cell_type": "code",
      "metadata": {
        "id": "fX0GhuWDV-2m"
      },
      "source": [
        "y_pred_gb_random = gb_random.predict(X_test)"
      ],
      "execution_count": 67,
      "outputs": []
    },
    {
      "cell_type": "code",
      "metadata": {
        "colab": {
          "base_uri": "https://localhost:8080/"
        },
        "id": "issjEDni8l0Q",
        "outputId": "f1f2861d-b4ed-4a82-b38d-0165846737da"
      },
      "source": [
        "gb_random.best_params_"
      ],
      "execution_count": 68,
      "outputs": [
        {
          "output_type": "execute_result",
          "data": {
            "text/plain": [
              "{'n_estimators': 105,\n",
              " 'min_samples_split': 5,\n",
              " 'min_samples_leaf': 5,\n",
              " 'max_depth': 3,\n",
              " 'learning_rate': 1.023292992280754,\n",
              " 'criterion': 'mse'}"
            ]
          },
          "metadata": {},
          "execution_count": 68
        }
      ]
    },
    {
      "cell_type": "code",
      "metadata": {
        "colab": {
          "base_uri": "https://localhost:8080/"
        },
        "id": "QqMaGDQUWeM3",
        "outputId": "44c8601c-1116-45ef-8f45-fce07668e624"
      },
      "source": [
        "auc_score_gb_random=balanced_accuracy_score(y_test,y_pred_gb_random)\n",
        "print(\"roc_auc score for random forest model tuned by RandomizedSearchCV  \",auc_score_gb_random )"
      ],
      "execution_count": 69,
      "outputs": [
        {
          "output_type": "stream",
          "name": "stdout",
          "text": [
            "roc_auc score for random forest model tuned by RandomizedSearchCV   0.716155048137507\n"
          ]
        }
      ]
    },
    {
      "cell_type": "code",
      "metadata": {
        "colab": {
          "base_uri": "https://localhost:8080/"
        },
        "id": "08EWYfgi8sUX",
        "outputId": "4ca4fc00-7790-4a3c-dac6-5437ba3a701b"
      },
      "source": [
        "print(f'Test Accuracy : {gb_random.score(X_test,y_test)}')"
      ],
      "execution_count": 70,
      "outputs": [
        {
          "output_type": "stream",
          "name": "stdout",
          "text": [
            "Test Accuracy : 0.716155048137507\n"
          ]
        }
      ]
    },
    {
      "cell_type": "markdown",
      "metadata": {
        "id": "ONKf8O2ebR1C"
      },
      "source": [
        "# Share your thoughts and provide us feedback regarding to this notebook.(Optional)\n"
      ]
    },
    {
      "cell_type": "markdown",
      "metadata": {
        "id": "sLTmw2uzJZVk"
      },
      "source": [
        "Write your feedback here: "
      ]
    },
    {
      "cell_type": "markdown",
      "metadata": {
        "id": "x3cTbUOaCL59"
      },
      "source": [
        "# <font color='green'> Finished! </font> \n",
        "\n",
        "\n",
        "\n"
      ]
    }
  ]
}