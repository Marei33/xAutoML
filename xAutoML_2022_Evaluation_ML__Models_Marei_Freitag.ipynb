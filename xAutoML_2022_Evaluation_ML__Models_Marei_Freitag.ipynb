{
  "nbformat": 4,
  "nbformat_minor": 0,
  "metadata": {
    "colab": {
      "provenance": [],
      "collapsed_sections": [],
      "include_colab_link": true
    },
    "kernelspec": {
      "name": "python3",
      "display_name": "Python 3"
    },
    "language_info": {
      "name": "python"
    }
  },
  "cells": [
    {
      "cell_type": "markdown",
      "metadata": {
        "id": "view-in-github",
        "colab_type": "text"
      },
      "source": [
        "<a href=\"https://colab.research.google.com/github/Marei33/xAutoML/blob/main/xAutoML_2022_Evaluation_ML__Models_Marei_Freitag.ipynb\" target=\"_parent\"><img src=\"https://colab.research.google.com/assets/colab-badge.svg\" alt=\"Open In Colab\"/></a>"
      ]
    },
    {
      "cell_type": "markdown",
      "metadata": {
        "id": "8ll51Cz9UFse"
      },
      "source": [
        "# Introduction\n",
        "Please make a duplicate(**File-> Save a copy in Drive**) of this notebook in colab and \n",
        "rename it (xAutoML_2022_Evaluation_ML_ Models_firstname_lastname.ipynb)."
      ]
    },
    {
      "cell_type": "markdown",
      "metadata": {
        "id": "tLwOEQfJX48_"
      },
      "source": [
        "### What is Google Colab?\n",
        "If you are not familar with Colab, please check following links:\n",
        "\n",
        "\n",
        "*   https://colab.research.google.com/notebooks/intro.ipynb\n",
        "*   https://www.youtube.com/watch?v=inN8seMm7UI\n",
        "\n"
      ]
    },
    {
      "cell_type": "markdown",
      "source": [
        "# Session objectives\n"
      ],
      "metadata": {
        "id": "r9h9gFiCe6cu"
      }
    },
    {
      "cell_type": "markdown",
      "source": [
        "\n",
        "\n",
        "*   Get familiar with  statistical hypothesis tests.\n",
        "*   Understanding when statistical hypothesis tests are required.\n"
      ],
      "metadata": {
        "id": "orFO53WzgaCi"
      }
    },
    {
      "cell_type": "markdown",
      "metadata": {
        "id": "CWWfYlDuGGqW"
      },
      "source": [
        "# Setup"
      ]
    },
    {
      "cell_type": "code",
      "metadata": {
        "id": "-f6dwATdxryW"
      },
      "source": [
        "import pandas as pd \n",
        "import numpy as np\n",
        "from scipy import stats\n",
        "\n",
        "# visualization packages \n",
        "import matplotlib.pyplot as plt\n",
        "import seaborn as sns\n",
        "# import urllib.request\n",
        "import requests\n",
        "\n",
        "# from sklearn \n",
        "from sklearn.preprocessing import LabelEncoder\n",
        "from imblearn.under_sampling import NearMiss\n",
        "from sklearn.ensemble import RandomForestClassifier\n",
        "from sklearn.tree import  DecisionTreeClassifier\n",
        "from sklearn.linear_model import LogisticRegression\n",
        "from sklearn.model_selection import train_test_split\n",
        "from sklearn.preprocessing import LabelEncoder\n",
        "from sklearn.preprocessing import StandardScaler\n",
        "from sklearn.metrics import roc_auc_score\n",
        "\n",
        "# for ignoring the warnings massages.\n",
        "import warnings\n",
        "warnings.filterwarnings(\"ignore\")\n",
        "%matplotlib inline"
      ],
      "execution_count": 26,
      "outputs": []
    },
    {
      "cell_type": "markdown",
      "metadata": {
        "id": "j30akmBaS__E"
      },
      "source": [
        "# Homework requirements\n",
        "\n",
        "1. Read and understand all cells - 0 points\n",
        "2. Implement the missing cell indicated by the two tags: [start here] and [end here] - 2 point\n",
        "3. Implement MCNemar test following the instructions in the corresponding cells - 1 point\n",
        "4. Using 5 cross-validation splits, evaluate the whole dataset using the two classifiers - 2 points\n",
        "5. Repeat the tests and check if there is a significant difference between classifiers 1 point\n",
        "\n",
        "**P.S: for some of the above tasks, you may need to add more cells. please Add all extra cells at the end of the notebook.**"
      ]
    },
    {
      "cell_type": "markdown",
      "metadata": {
        "id": "r6JfBLw5XFYW"
      },
      "source": [
        "# Data collection \n",
        "The initial stage in any machine learning process might be data gathering. As an example, we will use a bank marketing dataset. kindly,run the following cell to get the dataset."
      ]
    },
    {
      "cell_type": "code",
      "metadata": {
        "id": "rertY7q6sxVT"
      },
      "source": [
        "# downloading data source: https://datahub.io/machine-learning/bank-marketing/r/bank-marketing.csv\n",
        "# Also If you want to know more about the data, please check this link (https://datahub.io/machine-learning/bank-marketing)\n",
        "req = requests.get(\"https://datahub.io/machine-learning/bank-marketing/r/bank-marketing.csv\")\n",
        "\n",
        "url_content = req.content\n",
        "csv_file = open('bank_marketing.csv', 'wb')\n",
        "csv_file.write(url_content)\n",
        "csv_file.close()\n",
        "bank_marketing_df=pd.read_csv(\"./bank_marketing.csv\")"
      ],
      "execution_count": 27,
      "outputs": []
    },
    {
      "cell_type": "markdown",
      "metadata": {
        "id": "_zBbOIc9XUBy"
      },
      "source": [
        "# EDA (Exploratory Data Analysis)\n",
        "We'd like to do some EDA in this section to learn more about the dataset."
      ]
    },
    {
      "cell_type": "code",
      "metadata": {
        "colab": {
          "base_uri": "https://localhost:8080/"
        },
        "id": "cP9WC92TuK_O",
        "outputId": "1a0b3db3-a970-425f-f38c-8d2253109904"
      },
      "source": [
        "# let's know some info about dataframe.\n",
        "bank_marketing_df.info()"
      ],
      "execution_count": 28,
      "outputs": [
        {
          "output_type": "stream",
          "name": "stdout",
          "text": [
            "<class 'pandas.core.frame.DataFrame'>\n",
            "RangeIndex: 45211 entries, 0 to 45210\n",
            "Data columns (total 17 columns):\n",
            " #   Column  Non-Null Count  Dtype \n",
            "---  ------  --------------  ----- \n",
            " 0   V1      45211 non-null  int64 \n",
            " 1   V2      45211 non-null  object\n",
            " 2   V3      45211 non-null  object\n",
            " 3   V4      45211 non-null  object\n",
            " 4   V5      45211 non-null  object\n",
            " 5   V6      45211 non-null  int64 \n",
            " 6   V7      45211 non-null  object\n",
            " 7   V8      45211 non-null  object\n",
            " 8   V9      45211 non-null  object\n",
            " 9   V10     45211 non-null  int64 \n",
            " 10  V11     45211 non-null  object\n",
            " 11  V12     45211 non-null  int64 \n",
            " 12  V13     45211 non-null  int64 \n",
            " 13  V14     45211 non-null  int64 \n",
            " 14  V15     45211 non-null  int64 \n",
            " 15  V16     45211 non-null  object\n",
            " 16  Class   45211 non-null  int64 \n",
            "dtypes: int64(8), object(9)\n",
            "memory usage: 5.9+ MB\n"
          ]
        }
      ]
    },
    {
      "cell_type": "code",
      "metadata": {
        "id": "tXV8jFccb88w"
      },
      "source": [
        "# we can chane the column names based on the source (https://datahub.io/machine-learning/bank-marketing)\n",
        "bank_marketing_df.columns=['age','job', 'marital', 'education', 'default','balance', 'housing', 'loan', 'contact','day', 'month','duration','campaign','pdays','previous', 'poutcome', 'class']"
      ],
      "execution_count": 29,
      "outputs": []
    },
    {
      "cell_type": "code",
      "metadata": {
        "colab": {
          "base_uri": "https://localhost:8080/",
          "height": 434
        },
        "id": "VXV2bmp2tQha",
        "outputId": "9fdec235-05aa-4bd1-a257-da10ad21ae67"
      },
      "source": [
        "# displaying a ranom sample of the dataset\n",
        "bank_marketing_df.sample(10)"
      ],
      "execution_count": 30,
      "outputs": [
        {
          "output_type": "execute_result",
          "data": {
            "text/plain": [
              "       age            job   marital  education default  balance housing loan  \\\n",
              "21689   59        retired   married    primary      no        0      no   no   \n",
              "21800   43  self-employed   married   tertiary      no      488      no   no   \n",
              "18339   41     technician   married  secondary      no      799      no   no   \n",
              "9626    52     management  divorced   tertiary      no      590      no   no   \n",
              "34187   52     management   married   tertiary      no     1356     yes   no   \n",
              "16453   59      housemaid   married    primary      no      509      no  yes   \n",
              "40604   26         admin.    single  secondary      no      125      no   no   \n",
              "14479   48      housemaid  divorced  secondary      no     -621      no  yes   \n",
              "4317    22    blue-collar    single  secondary      no     3992     yes  yes   \n",
              "23051   35         admin.   married   tertiary      no        6      no   no   \n",
              "\n",
              "         contact  day month  duration  campaign  pdays  previous poutcome  \\\n",
              "21689   cellular   19   aug       288         2     -1         0  unknown   \n",
              "21800   cellular   20   aug       190        12     -1         0  unknown   \n",
              "18339   cellular   31   jul       125         6     -1         0  unknown   \n",
              "9626     unknown    6   jun       354         5     -1         0  unknown   \n",
              "34187   cellular    4   may       312         2     -1         0  unknown   \n",
              "16453  telephone   23   jul        67         2     -1         0  unknown   \n",
              "40604   cellular    4   aug        92         1    118         6    other   \n",
              "14479   cellular   14   jul       552         3     -1         0  unknown   \n",
              "4317     unknown   19   may       194         2     -1         0  unknown   \n",
              "23051   cellular   26   aug       130         2     -1         0  unknown   \n",
              "\n",
              "       class  \n",
              "21689      1  \n",
              "21800      1  \n",
              "18339      1  \n",
              "9626       1  \n",
              "34187      1  \n",
              "16453      1  \n",
              "40604      1  \n",
              "14479      1  \n",
              "4317       1  \n",
              "23051      1  "
            ],
            "text/html": [
              "\n",
              "  <div id=\"df-fa5e4377-8d7c-487c-a5f4-8636b37c3aa3\">\n",
              "    <div class=\"colab-df-container\">\n",
              "      <div>\n",
              "<style scoped>\n",
              "    .dataframe tbody tr th:only-of-type {\n",
              "        vertical-align: middle;\n",
              "    }\n",
              "\n",
              "    .dataframe tbody tr th {\n",
              "        vertical-align: top;\n",
              "    }\n",
              "\n",
              "    .dataframe thead th {\n",
              "        text-align: right;\n",
              "    }\n",
              "</style>\n",
              "<table border=\"1\" class=\"dataframe\">\n",
              "  <thead>\n",
              "    <tr style=\"text-align: right;\">\n",
              "      <th></th>\n",
              "      <th>age</th>\n",
              "      <th>job</th>\n",
              "      <th>marital</th>\n",
              "      <th>education</th>\n",
              "      <th>default</th>\n",
              "      <th>balance</th>\n",
              "      <th>housing</th>\n",
              "      <th>loan</th>\n",
              "      <th>contact</th>\n",
              "      <th>day</th>\n",
              "      <th>month</th>\n",
              "      <th>duration</th>\n",
              "      <th>campaign</th>\n",
              "      <th>pdays</th>\n",
              "      <th>previous</th>\n",
              "      <th>poutcome</th>\n",
              "      <th>class</th>\n",
              "    </tr>\n",
              "  </thead>\n",
              "  <tbody>\n",
              "    <tr>\n",
              "      <th>21689</th>\n",
              "      <td>59</td>\n",
              "      <td>retired</td>\n",
              "      <td>married</td>\n",
              "      <td>primary</td>\n",
              "      <td>no</td>\n",
              "      <td>0</td>\n",
              "      <td>no</td>\n",
              "      <td>no</td>\n",
              "      <td>cellular</td>\n",
              "      <td>19</td>\n",
              "      <td>aug</td>\n",
              "      <td>288</td>\n",
              "      <td>2</td>\n",
              "      <td>-1</td>\n",
              "      <td>0</td>\n",
              "      <td>unknown</td>\n",
              "      <td>1</td>\n",
              "    </tr>\n",
              "    <tr>\n",
              "      <th>21800</th>\n",
              "      <td>43</td>\n",
              "      <td>self-employed</td>\n",
              "      <td>married</td>\n",
              "      <td>tertiary</td>\n",
              "      <td>no</td>\n",
              "      <td>488</td>\n",
              "      <td>no</td>\n",
              "      <td>no</td>\n",
              "      <td>cellular</td>\n",
              "      <td>20</td>\n",
              "      <td>aug</td>\n",
              "      <td>190</td>\n",
              "      <td>12</td>\n",
              "      <td>-1</td>\n",
              "      <td>0</td>\n",
              "      <td>unknown</td>\n",
              "      <td>1</td>\n",
              "    </tr>\n",
              "    <tr>\n",
              "      <th>18339</th>\n",
              "      <td>41</td>\n",
              "      <td>technician</td>\n",
              "      <td>married</td>\n",
              "      <td>secondary</td>\n",
              "      <td>no</td>\n",
              "      <td>799</td>\n",
              "      <td>no</td>\n",
              "      <td>no</td>\n",
              "      <td>cellular</td>\n",
              "      <td>31</td>\n",
              "      <td>jul</td>\n",
              "      <td>125</td>\n",
              "      <td>6</td>\n",
              "      <td>-1</td>\n",
              "      <td>0</td>\n",
              "      <td>unknown</td>\n",
              "      <td>1</td>\n",
              "    </tr>\n",
              "    <tr>\n",
              "      <th>9626</th>\n",
              "      <td>52</td>\n",
              "      <td>management</td>\n",
              "      <td>divorced</td>\n",
              "      <td>tertiary</td>\n",
              "      <td>no</td>\n",
              "      <td>590</td>\n",
              "      <td>no</td>\n",
              "      <td>no</td>\n",
              "      <td>unknown</td>\n",
              "      <td>6</td>\n",
              "      <td>jun</td>\n",
              "      <td>354</td>\n",
              "      <td>5</td>\n",
              "      <td>-1</td>\n",
              "      <td>0</td>\n",
              "      <td>unknown</td>\n",
              "      <td>1</td>\n",
              "    </tr>\n",
              "    <tr>\n",
              "      <th>34187</th>\n",
              "      <td>52</td>\n",
              "      <td>management</td>\n",
              "      <td>married</td>\n",
              "      <td>tertiary</td>\n",
              "      <td>no</td>\n",
              "      <td>1356</td>\n",
              "      <td>yes</td>\n",
              "      <td>no</td>\n",
              "      <td>cellular</td>\n",
              "      <td>4</td>\n",
              "      <td>may</td>\n",
              "      <td>312</td>\n",
              "      <td>2</td>\n",
              "      <td>-1</td>\n",
              "      <td>0</td>\n",
              "      <td>unknown</td>\n",
              "      <td>1</td>\n",
              "    </tr>\n",
              "    <tr>\n",
              "      <th>16453</th>\n",
              "      <td>59</td>\n",
              "      <td>housemaid</td>\n",
              "      <td>married</td>\n",
              "      <td>primary</td>\n",
              "      <td>no</td>\n",
              "      <td>509</td>\n",
              "      <td>no</td>\n",
              "      <td>yes</td>\n",
              "      <td>telephone</td>\n",
              "      <td>23</td>\n",
              "      <td>jul</td>\n",
              "      <td>67</td>\n",
              "      <td>2</td>\n",
              "      <td>-1</td>\n",
              "      <td>0</td>\n",
              "      <td>unknown</td>\n",
              "      <td>1</td>\n",
              "    </tr>\n",
              "    <tr>\n",
              "      <th>40604</th>\n",
              "      <td>26</td>\n",
              "      <td>admin.</td>\n",
              "      <td>single</td>\n",
              "      <td>secondary</td>\n",
              "      <td>no</td>\n",
              "      <td>125</td>\n",
              "      <td>no</td>\n",
              "      <td>no</td>\n",
              "      <td>cellular</td>\n",
              "      <td>4</td>\n",
              "      <td>aug</td>\n",
              "      <td>92</td>\n",
              "      <td>1</td>\n",
              "      <td>118</td>\n",
              "      <td>6</td>\n",
              "      <td>other</td>\n",
              "      <td>1</td>\n",
              "    </tr>\n",
              "    <tr>\n",
              "      <th>14479</th>\n",
              "      <td>48</td>\n",
              "      <td>housemaid</td>\n",
              "      <td>divorced</td>\n",
              "      <td>secondary</td>\n",
              "      <td>no</td>\n",
              "      <td>-621</td>\n",
              "      <td>no</td>\n",
              "      <td>yes</td>\n",
              "      <td>cellular</td>\n",
              "      <td>14</td>\n",
              "      <td>jul</td>\n",
              "      <td>552</td>\n",
              "      <td>3</td>\n",
              "      <td>-1</td>\n",
              "      <td>0</td>\n",
              "      <td>unknown</td>\n",
              "      <td>1</td>\n",
              "    </tr>\n",
              "    <tr>\n",
              "      <th>4317</th>\n",
              "      <td>22</td>\n",
              "      <td>blue-collar</td>\n",
              "      <td>single</td>\n",
              "      <td>secondary</td>\n",
              "      <td>no</td>\n",
              "      <td>3992</td>\n",
              "      <td>yes</td>\n",
              "      <td>yes</td>\n",
              "      <td>unknown</td>\n",
              "      <td>19</td>\n",
              "      <td>may</td>\n",
              "      <td>194</td>\n",
              "      <td>2</td>\n",
              "      <td>-1</td>\n",
              "      <td>0</td>\n",
              "      <td>unknown</td>\n",
              "      <td>1</td>\n",
              "    </tr>\n",
              "    <tr>\n",
              "      <th>23051</th>\n",
              "      <td>35</td>\n",
              "      <td>admin.</td>\n",
              "      <td>married</td>\n",
              "      <td>tertiary</td>\n",
              "      <td>no</td>\n",
              "      <td>6</td>\n",
              "      <td>no</td>\n",
              "      <td>no</td>\n",
              "      <td>cellular</td>\n",
              "      <td>26</td>\n",
              "      <td>aug</td>\n",
              "      <td>130</td>\n",
              "      <td>2</td>\n",
              "      <td>-1</td>\n",
              "      <td>0</td>\n",
              "      <td>unknown</td>\n",
              "      <td>1</td>\n",
              "    </tr>\n",
              "  </tbody>\n",
              "</table>\n",
              "</div>\n",
              "      <button class=\"colab-df-convert\" onclick=\"convertToInteractive('df-fa5e4377-8d7c-487c-a5f4-8636b37c3aa3')\"\n",
              "              title=\"Convert this dataframe to an interactive table.\"\n",
              "              style=\"display:none;\">\n",
              "        \n",
              "  <svg xmlns=\"http://www.w3.org/2000/svg\" height=\"24px\"viewBox=\"0 0 24 24\"\n",
              "       width=\"24px\">\n",
              "    <path d=\"M0 0h24v24H0V0z\" fill=\"none\"/>\n",
              "    <path d=\"M18.56 5.44l.94 2.06.94-2.06 2.06-.94-2.06-.94-.94-2.06-.94 2.06-2.06.94zm-11 1L8.5 8.5l.94-2.06 2.06-.94-2.06-.94L8.5 2.5l-.94 2.06-2.06.94zm10 10l.94 2.06.94-2.06 2.06-.94-2.06-.94-.94-2.06-.94 2.06-2.06.94z\"/><path d=\"M17.41 7.96l-1.37-1.37c-.4-.4-.92-.59-1.43-.59-.52 0-1.04.2-1.43.59L10.3 9.45l-7.72 7.72c-.78.78-.78 2.05 0 2.83L4 21.41c.39.39.9.59 1.41.59.51 0 1.02-.2 1.41-.59l7.78-7.78 2.81-2.81c.8-.78.8-2.07 0-2.86zM5.41 20L4 18.59l7.72-7.72 1.47 1.35L5.41 20z\"/>\n",
              "  </svg>\n",
              "      </button>\n",
              "      \n",
              "  <style>\n",
              "    .colab-df-container {\n",
              "      display:flex;\n",
              "      flex-wrap:wrap;\n",
              "      gap: 12px;\n",
              "    }\n",
              "\n",
              "    .colab-df-convert {\n",
              "      background-color: #E8F0FE;\n",
              "      border: none;\n",
              "      border-radius: 50%;\n",
              "      cursor: pointer;\n",
              "      display: none;\n",
              "      fill: #1967D2;\n",
              "      height: 32px;\n",
              "      padding: 0 0 0 0;\n",
              "      width: 32px;\n",
              "    }\n",
              "\n",
              "    .colab-df-convert:hover {\n",
              "      background-color: #E2EBFA;\n",
              "      box-shadow: 0px 1px 2px rgba(60, 64, 67, 0.3), 0px 1px 3px 1px rgba(60, 64, 67, 0.15);\n",
              "      fill: #174EA6;\n",
              "    }\n",
              "\n",
              "    [theme=dark] .colab-df-convert {\n",
              "      background-color: #3B4455;\n",
              "      fill: #D2E3FC;\n",
              "    }\n",
              "\n",
              "    [theme=dark] .colab-df-convert:hover {\n",
              "      background-color: #434B5C;\n",
              "      box-shadow: 0px 1px 3px 1px rgba(0, 0, 0, 0.15);\n",
              "      filter: drop-shadow(0px 1px 2px rgba(0, 0, 0, 0.3));\n",
              "      fill: #FFFFFF;\n",
              "    }\n",
              "  </style>\n",
              "\n",
              "      <script>\n",
              "        const buttonEl =\n",
              "          document.querySelector('#df-fa5e4377-8d7c-487c-a5f4-8636b37c3aa3 button.colab-df-convert');\n",
              "        buttonEl.style.display =\n",
              "          google.colab.kernel.accessAllowed ? 'block' : 'none';\n",
              "\n",
              "        async function convertToInteractive(key) {\n",
              "          const element = document.querySelector('#df-fa5e4377-8d7c-487c-a5f4-8636b37c3aa3');\n",
              "          const dataTable =\n",
              "            await google.colab.kernel.invokeFunction('convertToInteractive',\n",
              "                                                     [key], {});\n",
              "          if (!dataTable) return;\n",
              "\n",
              "          const docLinkHtml = 'Like what you see? Visit the ' +\n",
              "            '<a target=\"_blank\" href=https://colab.research.google.com/notebooks/data_table.ipynb>data table notebook</a>'\n",
              "            + ' to learn more about interactive tables.';\n",
              "          element.innerHTML = '';\n",
              "          dataTable['output_type'] = 'display_data';\n",
              "          await google.colab.output.renderOutput(dataTable, element);\n",
              "          const docLink = document.createElement('div');\n",
              "          docLink.innerHTML = docLinkHtml;\n",
              "          element.appendChild(docLink);\n",
              "        }\n",
              "      </script>\n",
              "    </div>\n",
              "  </div>\n",
              "  "
            ]
          },
          "metadata": {},
          "execution_count": 30
        }
      ]
    },
    {
      "cell_type": "code",
      "metadata": {
        "colab": {
          "base_uri": "https://localhost:8080/",
          "height": 313
        },
        "id": "j8UzflzVtbrl",
        "outputId": "8e4aae03-7977-4299-f46f-49549ad6208f"
      },
      "source": [
        "# By using describe function we can get some insights about the dataset. for example, the minimum age is 18 which makes sense for a bank account.\n",
        "bank_marketing_df.describe()"
      ],
      "execution_count": 31,
      "outputs": [
        {
          "output_type": "execute_result",
          "data": {
            "text/plain": [
              "                age        balance           day      duration      campaign  \\\n",
              "count  45211.000000   45211.000000  45211.000000  45211.000000  45211.000000   \n",
              "mean      40.936210    1362.272058     15.806419    258.163080      2.763841   \n",
              "std       10.618762    3044.765829      8.322476    257.527812      3.098021   \n",
              "min       18.000000   -8019.000000      1.000000      0.000000      1.000000   \n",
              "25%       33.000000      72.000000      8.000000    103.000000      1.000000   \n",
              "50%       39.000000     448.000000     16.000000    180.000000      2.000000   \n",
              "75%       48.000000    1428.000000     21.000000    319.000000      3.000000   \n",
              "max       95.000000  102127.000000     31.000000   4918.000000     63.000000   \n",
              "\n",
              "              pdays      previous         class  \n",
              "count  45211.000000  45211.000000  45211.000000  \n",
              "mean      40.197828      0.580323      1.116985  \n",
              "std      100.128746      2.303441      0.321406  \n",
              "min       -1.000000      0.000000      1.000000  \n",
              "25%       -1.000000      0.000000      1.000000  \n",
              "50%       -1.000000      0.000000      1.000000  \n",
              "75%       -1.000000      0.000000      1.000000  \n",
              "max      871.000000    275.000000      2.000000  "
            ],
            "text/html": [
              "\n",
              "  <div id=\"df-979d75df-1f8c-4ba8-bff7-5582639ed08c\">\n",
              "    <div class=\"colab-df-container\">\n",
              "      <div>\n",
              "<style scoped>\n",
              "    .dataframe tbody tr th:only-of-type {\n",
              "        vertical-align: middle;\n",
              "    }\n",
              "\n",
              "    .dataframe tbody tr th {\n",
              "        vertical-align: top;\n",
              "    }\n",
              "\n",
              "    .dataframe thead th {\n",
              "        text-align: right;\n",
              "    }\n",
              "</style>\n",
              "<table border=\"1\" class=\"dataframe\">\n",
              "  <thead>\n",
              "    <tr style=\"text-align: right;\">\n",
              "      <th></th>\n",
              "      <th>age</th>\n",
              "      <th>balance</th>\n",
              "      <th>day</th>\n",
              "      <th>duration</th>\n",
              "      <th>campaign</th>\n",
              "      <th>pdays</th>\n",
              "      <th>previous</th>\n",
              "      <th>class</th>\n",
              "    </tr>\n",
              "  </thead>\n",
              "  <tbody>\n",
              "    <tr>\n",
              "      <th>count</th>\n",
              "      <td>45211.000000</td>\n",
              "      <td>45211.000000</td>\n",
              "      <td>45211.000000</td>\n",
              "      <td>45211.000000</td>\n",
              "      <td>45211.000000</td>\n",
              "      <td>45211.000000</td>\n",
              "      <td>45211.000000</td>\n",
              "      <td>45211.000000</td>\n",
              "    </tr>\n",
              "    <tr>\n",
              "      <th>mean</th>\n",
              "      <td>40.936210</td>\n",
              "      <td>1362.272058</td>\n",
              "      <td>15.806419</td>\n",
              "      <td>258.163080</td>\n",
              "      <td>2.763841</td>\n",
              "      <td>40.197828</td>\n",
              "      <td>0.580323</td>\n",
              "      <td>1.116985</td>\n",
              "    </tr>\n",
              "    <tr>\n",
              "      <th>std</th>\n",
              "      <td>10.618762</td>\n",
              "      <td>3044.765829</td>\n",
              "      <td>8.322476</td>\n",
              "      <td>257.527812</td>\n",
              "      <td>3.098021</td>\n",
              "      <td>100.128746</td>\n",
              "      <td>2.303441</td>\n",
              "      <td>0.321406</td>\n",
              "    </tr>\n",
              "    <tr>\n",
              "      <th>min</th>\n",
              "      <td>18.000000</td>\n",
              "      <td>-8019.000000</td>\n",
              "      <td>1.000000</td>\n",
              "      <td>0.000000</td>\n",
              "      <td>1.000000</td>\n",
              "      <td>-1.000000</td>\n",
              "      <td>0.000000</td>\n",
              "      <td>1.000000</td>\n",
              "    </tr>\n",
              "    <tr>\n",
              "      <th>25%</th>\n",
              "      <td>33.000000</td>\n",
              "      <td>72.000000</td>\n",
              "      <td>8.000000</td>\n",
              "      <td>103.000000</td>\n",
              "      <td>1.000000</td>\n",
              "      <td>-1.000000</td>\n",
              "      <td>0.000000</td>\n",
              "      <td>1.000000</td>\n",
              "    </tr>\n",
              "    <tr>\n",
              "      <th>50%</th>\n",
              "      <td>39.000000</td>\n",
              "      <td>448.000000</td>\n",
              "      <td>16.000000</td>\n",
              "      <td>180.000000</td>\n",
              "      <td>2.000000</td>\n",
              "      <td>-1.000000</td>\n",
              "      <td>0.000000</td>\n",
              "      <td>1.000000</td>\n",
              "    </tr>\n",
              "    <tr>\n",
              "      <th>75%</th>\n",
              "      <td>48.000000</td>\n",
              "      <td>1428.000000</td>\n",
              "      <td>21.000000</td>\n",
              "      <td>319.000000</td>\n",
              "      <td>3.000000</td>\n",
              "      <td>-1.000000</td>\n",
              "      <td>0.000000</td>\n",
              "      <td>1.000000</td>\n",
              "    </tr>\n",
              "    <tr>\n",
              "      <th>max</th>\n",
              "      <td>95.000000</td>\n",
              "      <td>102127.000000</td>\n",
              "      <td>31.000000</td>\n",
              "      <td>4918.000000</td>\n",
              "      <td>63.000000</td>\n",
              "      <td>871.000000</td>\n",
              "      <td>275.000000</td>\n",
              "      <td>2.000000</td>\n",
              "    </tr>\n",
              "  </tbody>\n",
              "</table>\n",
              "</div>\n",
              "      <button class=\"colab-df-convert\" onclick=\"convertToInteractive('df-979d75df-1f8c-4ba8-bff7-5582639ed08c')\"\n",
              "              title=\"Convert this dataframe to an interactive table.\"\n",
              "              style=\"display:none;\">\n",
              "        \n",
              "  <svg xmlns=\"http://www.w3.org/2000/svg\" height=\"24px\"viewBox=\"0 0 24 24\"\n",
              "       width=\"24px\">\n",
              "    <path d=\"M0 0h24v24H0V0z\" fill=\"none\"/>\n",
              "    <path d=\"M18.56 5.44l.94 2.06.94-2.06 2.06-.94-2.06-.94-.94-2.06-.94 2.06-2.06.94zm-11 1L8.5 8.5l.94-2.06 2.06-.94-2.06-.94L8.5 2.5l-.94 2.06-2.06.94zm10 10l.94 2.06.94-2.06 2.06-.94-2.06-.94-.94-2.06-.94 2.06-2.06.94z\"/><path d=\"M17.41 7.96l-1.37-1.37c-.4-.4-.92-.59-1.43-.59-.52 0-1.04.2-1.43.59L10.3 9.45l-7.72 7.72c-.78.78-.78 2.05 0 2.83L4 21.41c.39.39.9.59 1.41.59.51 0 1.02-.2 1.41-.59l7.78-7.78 2.81-2.81c.8-.78.8-2.07 0-2.86zM5.41 20L4 18.59l7.72-7.72 1.47 1.35L5.41 20z\"/>\n",
              "  </svg>\n",
              "      </button>\n",
              "      \n",
              "  <style>\n",
              "    .colab-df-container {\n",
              "      display:flex;\n",
              "      flex-wrap:wrap;\n",
              "      gap: 12px;\n",
              "    }\n",
              "\n",
              "    .colab-df-convert {\n",
              "      background-color: #E8F0FE;\n",
              "      border: none;\n",
              "      border-radius: 50%;\n",
              "      cursor: pointer;\n",
              "      display: none;\n",
              "      fill: #1967D2;\n",
              "      height: 32px;\n",
              "      padding: 0 0 0 0;\n",
              "      width: 32px;\n",
              "    }\n",
              "\n",
              "    .colab-df-convert:hover {\n",
              "      background-color: #E2EBFA;\n",
              "      box-shadow: 0px 1px 2px rgba(60, 64, 67, 0.3), 0px 1px 3px 1px rgba(60, 64, 67, 0.15);\n",
              "      fill: #174EA6;\n",
              "    }\n",
              "\n",
              "    [theme=dark] .colab-df-convert {\n",
              "      background-color: #3B4455;\n",
              "      fill: #D2E3FC;\n",
              "    }\n",
              "\n",
              "    [theme=dark] .colab-df-convert:hover {\n",
              "      background-color: #434B5C;\n",
              "      box-shadow: 0px 1px 3px 1px rgba(0, 0, 0, 0.15);\n",
              "      filter: drop-shadow(0px 1px 2px rgba(0, 0, 0, 0.3));\n",
              "      fill: #FFFFFF;\n",
              "    }\n",
              "  </style>\n",
              "\n",
              "      <script>\n",
              "        const buttonEl =\n",
              "          document.querySelector('#df-979d75df-1f8c-4ba8-bff7-5582639ed08c button.colab-df-convert');\n",
              "        buttonEl.style.display =\n",
              "          google.colab.kernel.accessAllowed ? 'block' : 'none';\n",
              "\n",
              "        async function convertToInteractive(key) {\n",
              "          const element = document.querySelector('#df-979d75df-1f8c-4ba8-bff7-5582639ed08c');\n",
              "          const dataTable =\n",
              "            await google.colab.kernel.invokeFunction('convertToInteractive',\n",
              "                                                     [key], {});\n",
              "          if (!dataTable) return;\n",
              "\n",
              "          const docLinkHtml = 'Like what you see? Visit the ' +\n",
              "            '<a target=\"_blank\" href=https://colab.research.google.com/notebooks/data_table.ipynb>data table notebook</a>'\n",
              "            + ' to learn more about interactive tables.';\n",
              "          element.innerHTML = '';\n",
              "          dataTable['output_type'] = 'display_data';\n",
              "          await google.colab.output.renderOutput(dataTable, element);\n",
              "          const docLink = document.createElement('div');\n",
              "          docLink.innerHTML = docLinkHtml;\n",
              "          element.appendChild(docLink);\n",
              "        }\n",
              "      </script>\n",
              "    </div>\n",
              "  </div>\n",
              "  "
            ]
          },
          "metadata": {},
          "execution_count": 31
        }
      ]
    },
    {
      "cell_type": "code",
      "metadata": {
        "colab": {
          "base_uri": "https://localhost:8080/",
          "height": 300
        },
        "id": "AjlDbTLrifcZ",
        "outputId": "de7746c1-6753-44d4-82e5-e1c37ab5564f"
      },
      "source": [
        "#let's check the target variable\n",
        "# Did a client subscribed a term deposit? NO is 1 and Yes 2 in the dataset!\n",
        "# use the countplot function from sns to plot the 'class' column from the dataset\n",
        "#[start here]\n",
        "sns.countplot(bank_marketing_df[\"class\"])\n",
        "plt.show()\n",
        "#[end here]"
      ],
      "execution_count": 32,
      "outputs": [
        {
          "output_type": "display_data",
          "data": {
            "text/plain": [
              "<Figure size 432x288 with 1 Axes>"
            ],
            "image/png": "[encoded data removed]"
          },
          "metadata": {
            "needs_background": "light"
          }
        }
      ]
    },
    {
      "cell_type": "code",
      "metadata": {
        "colab": {
          "base_uri": "https://localhost:8080/",
          "height": 300
        },
        "id": "ghCMQbIPukGT",
        "outputId": "75acdcc8-ffe5-4f02-f00b-7a2da1c8a023"
      },
      "source": [
        "# What about the age distribution in the dataset?\n",
        "# use the distplot function from sns to plot a histrogram for the 'age' column from the dataset\n",
        "#[start here]\n",
        "sns.histplot(bank_marketing_df.age)\n",
        "plt.show()\n",
        "#[end here]"
      ],
      "execution_count": 33,
      "outputs": [
        {
          "output_type": "display_data",
          "data": {
            "text/plain": [
              "<Figure size 432x288 with 1 Axes>"
            ],
            "image/png": "[encoded data removed]"
          },
          "metadata": {
            "needs_background": "light"
          }
        }
      ]
    },
    {
      "cell_type": "code",
      "source": [
        "sns.distplot(bank_marketing_df.age)\n",
        "plt.show()"
      ],
      "metadata": {
        "colab": {
          "base_uri": "https://localhost:8080/",
          "height": 300
        },
        "id": "k_3O-7z4PrLb",
        "outputId": "51a2f850-9d9e-432d-ffb0-3f0ab8d59e25"
      },
      "execution_count": 34,
      "outputs": [
        {
          "output_type": "display_data",
          "data": {
            "text/plain": [
              "<Figure size 432x288 with 1 Axes>"
            ],
            "image/png": "[encoded data removed]"
          },
          "metadata": {
            "needs_background": "light"
          }
        }
      ]
    },
    {
      "cell_type": "markdown",
      "metadata": {
        "id": "QX-ZlLRXXY5W"
      },
      "source": [
        "# Preprocessing "
      ]
    },
    {
      "cell_type": "code",
      "metadata": {
        "colab": {
          "base_uri": "https://localhost:8080/"
        },
        "id": "Mgp-SwjBunSf",
        "outputId": "92666073-c6f0-44ac-998d-535331da2ac5"
      },
      "source": [
        "categorical_cloumns = list(bank_marketing_df.select_dtypes(include=['object']).columns)\n",
        "categorical_cloumns"
      ],
      "execution_count": 35,
      "outputs": [
        {
          "output_type": "execute_result",
          "data": {
            "text/plain": [
              "['job',\n",
              " 'marital',\n",
              " 'education',\n",
              " 'default',\n",
              " 'housing',\n",
              " 'loan',\n",
              " 'contact',\n",
              " 'month',\n",
              " 'poutcome']"
            ]
          },
          "metadata": {},
          "execution_count": 35
        }
      ]
    },
    {
      "cell_type": "code",
      "metadata": {
        "colab": {
          "base_uri": "https://localhost:8080/",
          "height": 266
        },
        "id": "qMjjOpZctZS3",
        "outputId": "d626e7ed-6a37-4efb-a19b-3542580b316d"
      },
      "source": [
        "# use the LabelEncoder from scikit-learn to encode the categorical features\n",
        "#[start here]\n",
        "le = LabelEncoder()\n",
        "for col in categorical_cloumns:\n",
        "  bank_marketing_df[col] = le.fit_transform(bank_marketing_df[col])\n",
        "  #[end here]\n",
        "bank_marketing_df.tail(5)"
      ],
      "execution_count": 36,
      "outputs": [
        {
          "output_type": "execute_result",
          "data": {
            "text/plain": [
              "       age  job  marital  education  default  balance  housing  loan  contact  \\\n",
              "45206   51    9        1          2        0      825        0     0        0   \n",
              "45207   71    5        0          0        0     1729        0     0        0   \n",
              "45208   72    5        1          1        0     5715        0     0        0   \n",
              "45209   57    1        1          1        0      668        0     0        1   \n",
              "45210   37    2        1          1        0     2971        0     0        0   \n",
              "\n",
              "       day  month  duration  campaign  pdays  previous  poutcome  class  \n",
              "45206   17      9       977         3     -1         0         3      2  \n",
              "45207   17      9       456         2     -1         0         3      2  \n",
              "45208   17      9      1127         5    184         3         2      2  \n",
              "45209   17      9       508         4     -1         0         3      1  \n",
              "45210   17      9       361         2    188        11         1      1  "
            ],
            "text/html": [
              "\n",
              "  <div id=\"df-7d256c1c-dca2-4ce6-93bb-223e48091d74\">\n",
              "    <div class=\"colab-df-container\">\n",
              "      <div>\n",
              "<style scoped>\n",
              "    .dataframe tbody tr th:only-of-type {\n",
              "        vertical-align: middle;\n",
              "    }\n",
              "\n",
              "    .dataframe tbody tr th {\n",
              "        vertical-align: top;\n",
              "    }\n",
              "\n",
              "    .dataframe thead th {\n",
              "        text-align: right;\n",
              "    }\n",
              "</style>\n",
              "<table border=\"1\" class=\"dataframe\">\n",
              "  <thead>\n",
              "    <tr style=\"text-align: right;\">\n",
              "      <th></th>\n",
              "      <th>age</th>\n",
              "      <th>job</th>\n",
              "      <th>marital</th>\n",
              "      <th>education</th>\n",
              "      <th>default</th>\n",
              "      <th>balance</th>\n",
              "      <th>housing</th>\n",
              "      <th>loan</th>\n",
              "      <th>contact</th>\n",
              "      <th>day</th>\n",
              "      <th>month</th>\n",
              "      <th>duration</th>\n",
              "      <th>campaign</th>\n",
              "      <th>pdays</th>\n",
              "      <th>previous</th>\n",
              "      <th>poutcome</th>\n",
              "      <th>class</th>\n",
              "    </tr>\n",
              "  </thead>\n",
              "  <tbody>\n",
              "    <tr>\n",
              "      <th>45206</th>\n",
              "      <td>51</td>\n",
              "      <td>9</td>\n",
              "      <td>1</td>\n",
              "      <td>2</td>\n",
              "      <td>0</td>\n",
              "      <td>825</td>\n",
              "      <td>0</td>\n",
              "      <td>0</td>\n",
              "      <td>0</td>\n",
              "      <td>17</td>\n",
              "      <td>9</td>\n",
              "      <td>977</td>\n",
              "      <td>3</td>\n",
              "      <td>-1</td>\n",
              "      <td>0</td>\n",
              "      <td>3</td>\n",
              "      <td>2</td>\n",
              "    </tr>\n",
              "    <tr>\n",
              "      <th>45207</th>\n",
              "      <td>71</td>\n",
              "      <td>5</td>\n",
              "      <td>0</td>\n",
              "      <td>0</td>\n",
              "      <td>0</td>\n",
              "      <td>1729</td>\n",
              "      <td>0</td>\n",
              "      <td>0</td>\n",
              "      <td>0</td>\n",
              "      <td>17</td>\n",
              "      <td>9</td>\n",
              "      <td>456</td>\n",
              "      <td>2</td>\n",
              "      <td>-1</td>\n",
              "      <td>0</td>\n",
              "      <td>3</td>\n",
              "      <td>2</td>\n",
              "    </tr>\n",
              "    <tr>\n",
              "      <th>45208</th>\n",
              "      <td>72</td>\n",
              "      <td>5</td>\n",
              "      <td>1</td>\n",
              "      <td>1</td>\n",
              "      <td>0</td>\n",
              "      <td>5715</td>\n",
              "      <td>0</td>\n",
              "      <td>0</td>\n",
              "      <td>0</td>\n",
              "      <td>17</td>\n",
              "      <td>9</td>\n",
              "      <td>1127</td>\n",
              "      <td>5</td>\n",
              "      <td>184</td>\n",
              "      <td>3</td>\n",
              "      <td>2</td>\n",
              "      <td>2</td>\n",
              "    </tr>\n",
              "    <tr>\n",
              "      <th>45209</th>\n",
              "      <td>57</td>\n",
              "      <td>1</td>\n",
              "      <td>1</td>\n",
              "      <td>1</td>\n",
              "      <td>0</td>\n",
              "      <td>668</td>\n",
              "      <td>0</td>\n",
              "      <td>0</td>\n",
              "      <td>1</td>\n",
              "      <td>17</td>\n",
              "      <td>9</td>\n",
              "      <td>508</td>\n",
              "      <td>4</td>\n",
              "      <td>-1</td>\n",
              "      <td>0</td>\n",
              "      <td>3</td>\n",
              "      <td>1</td>\n",
              "    </tr>\n",
              "    <tr>\n",
              "      <th>45210</th>\n",
              "      <td>37</td>\n",
              "      <td>2</td>\n",
              "      <td>1</td>\n",
              "      <td>1</td>\n",
              "      <td>0</td>\n",
              "      <td>2971</td>\n",
              "      <td>0</td>\n",
              "      <td>0</td>\n",
              "      <td>0</td>\n",
              "      <td>17</td>\n",
              "      <td>9</td>\n",
              "      <td>361</td>\n",
              "      <td>2</td>\n",
              "      <td>188</td>\n",
              "      <td>11</td>\n",
              "      <td>1</td>\n",
              "      <td>1</td>\n",
              "    </tr>\n",
              "  </tbody>\n",
              "</table>\n",
              "</div>\n",
              "      <button class=\"colab-df-convert\" onclick=\"convertToInteractive('df-7d256c1c-dca2-4ce6-93bb-223e48091d74')\"\n",
              "              title=\"Convert this dataframe to an interactive table.\"\n",
              "              style=\"display:none;\">\n",
              "        \n",
              "  <svg xmlns=\"http://www.w3.org/2000/svg\" height=\"24px\"viewBox=\"0 0 24 24\"\n",
              "       width=\"24px\">\n",
              "    <path d=\"M0 0h24v24H0V0z\" fill=\"none\"/>\n",
              "    <path d=\"M18.56 5.44l.94 2.06.94-2.06 2.06-.94-2.06-.94-.94-2.06-.94 2.06-2.06.94zm-11 1L8.5 8.5l.94-2.06 2.06-.94-2.06-.94L8.5 2.5l-.94 2.06-2.06.94zm10 10l.94 2.06.94-2.06 2.06-.94-2.06-.94-.94-2.06-.94 2.06-2.06.94z\"/><path d=\"M17.41 7.96l-1.37-1.37c-.4-.4-.92-.59-1.43-.59-.52 0-1.04.2-1.43.59L10.3 9.45l-7.72 7.72c-.78.78-.78 2.05 0 2.83L4 21.41c.39.39.9.59 1.41.59.51 0 1.02-.2 1.41-.59l7.78-7.78 2.81-2.81c.8-.78.8-2.07 0-2.86zM5.41 20L4 18.59l7.72-7.72 1.47 1.35L5.41 20z\"/>\n",
              "  </svg>\n",
              "      </button>\n",
              "      \n",
              "  <style>\n",
              "    .colab-df-container {\n",
              "      display:flex;\n",
              "      flex-wrap:wrap;\n",
              "      gap: 12px;\n",
              "    }\n",
              "\n",
              "    .colab-df-convert {\n",
              "      background-color: #E8F0FE;\n",
              "      border: none;\n",
              "      border-radius: 50%;\n",
              "      cursor: pointer;\n",
              "      display: none;\n",
              "      fill: #1967D2;\n",
              "      height: 32px;\n",
              "      padding: 0 0 0 0;\n",
              "      width: 32px;\n",
              "    }\n",
              "\n",
              "    .colab-df-convert:hover {\n",
              "      background-color: #E2EBFA;\n",
              "      box-shadow: 0px 1px 2px rgba(60, 64, 67, 0.3), 0px 1px 3px 1px rgba(60, 64, 67, 0.15);\n",
              "      fill: #174EA6;\n",
              "    }\n",
              "\n",
              "    [theme=dark] .colab-df-convert {\n",
              "      background-color: #3B4455;\n",
              "      fill: #D2E3FC;\n",
              "    }\n",
              "\n",
              "    [theme=dark] .colab-df-convert:hover {\n",
              "      background-color: #434B5C;\n",
              "      box-shadow: 0px 1px 3px 1px rgba(0, 0, 0, 0.15);\n",
              "      filter: drop-shadow(0px 1px 2px rgba(0, 0, 0, 0.3));\n",
              "      fill: #FFFFFF;\n",
              "    }\n",
              "  </style>\n",
              "\n",
              "      <script>\n",
              "        const buttonEl =\n",
              "          document.querySelector('#df-7d256c1c-dca2-4ce6-93bb-223e48091d74 button.colab-df-convert');\n",
              "        buttonEl.style.display =\n",
              "          google.colab.kernel.accessAllowed ? 'block' : 'none';\n",
              "\n",
              "        async function convertToInteractive(key) {\n",
              "          const element = document.querySelector('#df-7d256c1c-dca2-4ce6-93bb-223e48091d74');\n",
              "          const dataTable =\n",
              "            await google.colab.kernel.invokeFunction('convertToInteractive',\n",
              "                                                     [key], {});\n",
              "          if (!dataTable) return;\n",
              "\n",
              "          const docLinkHtml = 'Like what you see? Visit the ' +\n",
              "            '<a target=\"_blank\" href=https://colab.research.google.com/notebooks/data_table.ipynb>data table notebook</a>'\n",
              "            + ' to learn more about interactive tables.';\n",
              "          element.innerHTML = '';\n",
              "          dataTable['output_type'] = 'display_data';\n",
              "          await google.colab.output.renderOutput(dataTable, element);\n",
              "          const docLink = document.createElement('div');\n",
              "          docLink.innerHTML = docLinkHtml;\n",
              "          element.appendChild(docLink);\n",
              "        }\n",
              "      </script>\n",
              "    </div>\n",
              "  </div>\n",
              "  "
            ]
          },
          "metadata": {},
          "execution_count": 36
        }
      ]
    },
    {
      "cell_type": "markdown",
      "metadata": {
        "id": "8o7hv0reg4Co"
      },
      "source": [
        "# Fit the Models: Random Forest & Logistic regression\n",
        "in this section we would like to apply two ML algorithm on the dataset and gather the result for further statistical analysis."
      ]
    },
    {
      "cell_type": "code",
      "metadata": {
        "id": "PQRoIVsUh7LG"
      },
      "source": [
        "y=bank_marketing_df['class']\n",
        "X=bank_marketing_df.drop('class',1)\n",
        "X_train, X_test, y_train, y_test = train_test_split(X,y, test_size = 0.33, random_state = 2021)"
      ],
      "execution_count": 37,
      "outputs": []
    },
    {
      "cell_type": "code",
      "metadata": {
        "id": "7bv66Okf9aFx"
      },
      "source": [
        "scaler= StandardScaler()\n",
        "X_train=scaler.fit_transform(X_train)\n",
        "X_test=scaler.transform(X_test)"
      ],
      "execution_count": 38,
      "outputs": []
    },
    {
      "cell_type": "code",
      "metadata": {
        "id": "3urxJNOz9lGJ"
      },
      "source": [
        "rf_model = RandomForestClassifier(random_state=2021).fit(X_train, y_train)\n",
        "log_model = LogisticRegression(random_state=2021).fit(X_train, y_train)"
      ],
      "execution_count": 39,
      "outputs": []
    },
    {
      "cell_type": "code",
      "metadata": {
        "id": "ysd_NknS-8zJ"
      },
      "source": [
        "y_pred_rf = rf_model.predict(X_test)\n",
        "y_pred_log = log_model.predict(X_test)"
      ],
      "execution_count": 40,
      "outputs": []
    },
    {
      "cell_type": "markdown",
      "metadata": {
        "id": "6isTD1H3XtsQ"
      },
      "source": [
        "##  roc_auc score "
      ]
    },
    {
      "cell_type": "code",
      "metadata": {
        "colab": {
          "base_uri": "https://localhost:8080/"
        },
        "id": "9xTgt82Q_wWJ",
        "outputId": "22fd253e-71dd-4638-f766-a9114a13d191"
      },
      "source": [
        "# y_test=y_test.to_numpy()\n",
        "auc_score_rf=roc_auc_score(y_test,y_pred_rf)\n",
        "print(\"roc_auc score for random forest model \",auc_score_rf )\n",
        "auc_score_log=roc_auc_score(y_test,y_pred_log)\n",
        "print(\"roc_auc score for decision tree model \",auc_score_log )"
      ],
      "execution_count": 41,
      "outputs": [
        {
          "output_type": "stream",
          "name": "stdout",
          "text": [
            "roc_auc score for random forest model  0.6925005266693388\n",
            "roc_auc score for decision tree model  0.6069697500224512\n"
          ]
        }
      ]
    },
    {
      "cell_type": "markdown",
      "metadata": {
        "id": "d6VXucTnVzor"
      },
      "source": [
        "# Tests overveiw"
      ]
    },
    {
      "cell_type": "markdown",
      "metadata": {
        "id": "PsLZln6dVPBw"
      },
      "source": [
        "![tests_overview.png](data:image/png;base64,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)"
      ]
    },
    {
      "cell_type": "markdown",
      "metadata": {
        "id": "Y04mSVx8q-an"
      },
      "source": [
        "## Create a new data frame"
      ]
    },
    {
      "cell_type": "code",
      "metadata": {
        "id": "qD1YyngTAlO6"
      },
      "source": [
        "mc_data=pd.DataFrame()\n",
        "mc_data[\"ground_truth\"]=y_test.tolist()\n",
        "mc_data[\"y_pred_log\"]=y_pred_log.tolist()\n",
        "mc_data[\"y_pred_rf\"]=y_pred_rf.tolist()"
      ],
      "execution_count": 42,
      "outputs": []
    },
    {
      "cell_type": "markdown",
      "metadata": {
        "id": "aXgyO6CMGXLA"
      },
      "source": [
        "# McNemar Test \n",
        "To this point, we have trained two models on bank marketing dataset and saved all results on a dataframe(mc_data). The first column represents the ground truth and the 2nd and the 3rd columns represent the output from decision tree and random forest respectively.  \n",
        "\n"
      ]
    },
    {
      "cell_type": "code",
      "metadata": {
        "id": "l5c6ArrlFQWu",
        "colab": {
          "base_uri": "https://localhost:8080/",
          "height": 221
        },
        "outputId": "2e8ce631-6db9-4387-942d-aa820747188f"
      },
      "source": [
        "# check 5 random row\n",
        "mc_data.head(5)"
      ],
      "execution_count": 43,
      "outputs": [
        {
          "output_type": "execute_result",
          "data": {
            "text/plain": [
              "   ground_truth  y_pred_log  y_pred_rf\n",
              "0             1           2          2\n",
              "1             1           1          1\n",
              "2             1           1          1\n",
              "3             1           1          1\n",
              "4             1           1          1"
            ],
            "text/html": [
              "\n",
              "  <div id=\"df-d6d96332-9196-4018-ae64-c2109908de08\">\n",
              "    <div class=\"colab-df-container\">\n",
              "      <div>\n",
              "<style scoped>\n",
              "    .dataframe tbody tr th:only-of-type {\n",
              "        vertical-align: middle;\n",
              "    }\n",
              "\n",
              "    .dataframe tbody tr th {\n",
              "        vertical-align: top;\n",
              "    }\n",
              "\n",
              "    .dataframe thead th {\n",
              "        text-align: right;\n",
              "    }\n",
              "</style>\n",
              "<table border=\"1\" class=\"dataframe\">\n",
              "  <thead>\n",
              "    <tr style=\"text-align: right;\">\n",
              "      <th></th>\n",
              "      <th>ground_truth</th>\n",
              "      <th>y_pred_log</th>\n",
              "      <th>y_pred_rf</th>\n",
              "    </tr>\n",
              "  </thead>\n",
              "  <tbody>\n",
              "    <tr>\n",
              "      <th>0</th>\n",
              "      <td>1</td>\n",
              "      <td>2</td>\n",
              "      <td>2</td>\n",
              "    </tr>\n",
              "    <tr>\n",
              "      <th>1</th>\n",
              "      <td>1</td>\n",
              "      <td>1</td>\n",
              "      <td>1</td>\n",
              "    </tr>\n",
              "    <tr>\n",
              "      <th>2</th>\n",
              "      <td>1</td>\n",
              "      <td>1</td>\n",
              "      <td>1</td>\n",
              "    </tr>\n",
              "    <tr>\n",
              "      <th>3</th>\n",
              "      <td>1</td>\n",
              "      <td>1</td>\n",
              "      <td>1</td>\n",
              "    </tr>\n",
              "    <tr>\n",
              "      <th>4</th>\n",
              "      <td>1</td>\n",
              "      <td>1</td>\n",
              "      <td>1</td>\n",
              "    </tr>\n",
              "  </tbody>\n",
              "</table>\n",
              "</div>\n",
              "      <button class=\"colab-df-convert\" onclick=\"convertToInteractive('df-d6d96332-9196-4018-ae64-c2109908de08')\"\n",
              "              title=\"Convert this dataframe to an interactive table.\"\n",
              "              style=\"display:none;\">\n",
              "        \n",
              "  <svg xmlns=\"http://www.w3.org/2000/svg\" height=\"24px\"viewBox=\"0 0 24 24\"\n",
              "       width=\"24px\">\n",
              "    <path d=\"M0 0h24v24H0V0z\" fill=\"none\"/>\n",
              "    <path d=\"M18.56 5.44l.94 2.06.94-2.06 2.06-.94-2.06-.94-.94-2.06-.94 2.06-2.06.94zm-11 1L8.5 8.5l.94-2.06 2.06-.94-2.06-.94L8.5 2.5l-.94 2.06-2.06.94zm10 10l.94 2.06.94-2.06 2.06-.94-2.06-.94-.94-2.06-.94 2.06-2.06.94z\"/><path d=\"M17.41 7.96l-1.37-1.37c-.4-.4-.92-.59-1.43-.59-.52 0-1.04.2-1.43.59L10.3 9.45l-7.72 7.72c-.78.78-.78 2.05 0 2.83L4 21.41c.39.39.9.59 1.41.59.51 0 1.02-.2 1.41-.59l7.78-7.78 2.81-2.81c.8-.78.8-2.07 0-2.86zM5.41 20L4 18.59l7.72-7.72 1.47 1.35L5.41 20z\"/>\n",
              "  </svg>\n",
              "      </button>\n",
              "      \n",
              "  <style>\n",
              "    .colab-df-container {\n",
              "      display:flex;\n",
              "      flex-wrap:wrap;\n",
              "      gap: 12px;\n",
              "    }\n",
              "\n",
              "    .colab-df-convert {\n",
              "      background-color: #E8F0FE;\n",
              "      border: none;\n",
              "      border-radius: 50%;\n",
              "      cursor: pointer;\n",
              "      display: none;\n",
              "      fill: #1967D2;\n",
              "      height: 32px;\n",
              "      padding: 0 0 0 0;\n",
              "      width: 32px;\n",
              "    }\n",
              "\n",
              "    .colab-df-convert:hover {\n",
              "      background-color: #E2EBFA;\n",
              "      box-shadow: 0px 1px 2px rgba(60, 64, 67, 0.3), 0px 1px 3px 1px rgba(60, 64, 67, 0.15);\n",
              "      fill: #174EA6;\n",
              "    }\n",
              "\n",
              "    [theme=dark] .colab-df-convert {\n",
              "      background-color: #3B4455;\n",
              "      fill: #D2E3FC;\n",
              "    }\n",
              "\n",
              "    [theme=dark] .colab-df-convert:hover {\n",
              "      background-color: #434B5C;\n",
              "      box-shadow: 0px 1px 3px 1px rgba(0, 0, 0, 0.15);\n",
              "      filter: drop-shadow(0px 1px 2px rgba(0, 0, 0, 0.3));\n",
              "      fill: #FFFFFF;\n",
              "    }\n",
              "  </style>\n",
              "\n",
              "      <script>\n",
              "        const buttonEl =\n",
              "          document.querySelector('#df-d6d96332-9196-4018-ae64-c2109908de08 button.colab-df-convert');\n",
              "        buttonEl.style.display =\n",
              "          google.colab.kernel.accessAllowed ? 'block' : 'none';\n",
              "\n",
              "        async function convertToInteractive(key) {\n",
              "          const element = document.querySelector('#df-d6d96332-9196-4018-ae64-c2109908de08');\n",
              "          const dataTable =\n",
              "            await google.colab.kernel.invokeFunction('convertToInteractive',\n",
              "                                                     [key], {});\n",
              "          if (!dataTable) return;\n",
              "\n",
              "          const docLinkHtml = 'Like what you see? Visit the ' +\n",
              "            '<a target=\"_blank\" href=https://colab.research.google.com/notebooks/data_table.ipynb>data table notebook</a>'\n",
              "            + ' to learn more about interactive tables.';\n",
              "          element.innerHTML = '';\n",
              "          dataTable['output_type'] = 'display_data';\n",
              "          await google.colab.output.renderOutput(dataTable, element);\n",
              "          const docLink = document.createElement('div');\n",
              "          docLink.innerHTML = docLinkHtml;\n",
              "          element.appendChild(docLink);\n",
              "        }\n",
              "      </script>\n",
              "    </div>\n",
              "  </div>\n",
              "  "
            ]
          },
          "metadata": {},
          "execution_count": 43
        }
      ]
    },
    {
      "cell_type": "markdown",
      "metadata": {
        "id": "6GWkUwgF1KSs"
      },
      "source": [
        "Now we want to see if the outcomes of the models are significantly different using McNemar Test. Therefore, Please Implement a McNemer Test to determine whether the two models perform equally well on the dataset. In your solution state what is H0,H1 and return χ2  for this evaluation. "
      ]
    },
    {
      "cell_type": "markdown",
      "metadata": {
        "id": "ekBFo13I1CaP"
      },
      "source": [
        "## Contingency Table"
      ]
    },
    {
      "cell_type": "code",
      "metadata": {
        "id": "rYPvDzOwLdxb",
        "colab": {
          "base_uri": "https://localhost:8080/",
          "height": 221
        },
        "outputId": "50a2023e-254e-4cae-f655-216781b3e037"
      },
      "source": [
        "# mc_data['dt_correct']=['yes' if mc_data['ground_truth']== mc_data['y_pred_log']: else \"No\"] \n",
        "mc_data.loc[mc_data['ground_truth']==mc_data['y_pred_log'],'correct_log']=\"Yes\"\n",
        "mc_data.loc[mc_data['ground_truth']==mc_data['y_pred_rf'],'correct_rf']=\"Yes\"\n",
        "mc_data.loc[mc_data['ground_truth']!=mc_data['y_pred_log'],'correct_log']=\"No\"\n",
        "mc_data.loc[mc_data['ground_truth']!=mc_data['y_pred_rf'],'correct_rf']=\"No\"\n",
        "mc_data.head(5)"
      ],
      "execution_count": 44,
      "outputs": [
        {
          "output_type": "execute_result",
          "data": {
            "text/plain": [
              "   ground_truth  y_pred_log  y_pred_rf correct_log correct_rf\n",
              "0             1           2          2          No         No\n",
              "1             1           1          1         Yes        Yes\n",
              "2             1           1          1         Yes        Yes\n",
              "3             1           1          1         Yes        Yes\n",
              "4             1           1          1         Yes        Yes"
            ],
            "text/html": [
              "\n",
              "  <div id=\"df-28eae650-8437-48dd-9287-666ee150748c\">\n",
              "    <div class=\"colab-df-container\">\n",
              "      <div>\n",
              "<style scoped>\n",
              "    .dataframe tbody tr th:only-of-type {\n",
              "        vertical-align: middle;\n",
              "    }\n",
              "\n",
              "    .dataframe tbody tr th {\n",
              "        vertical-align: top;\n",
              "    }\n",
              "\n",
              "    .dataframe thead th {\n",
              "        text-align: right;\n",
              "    }\n",
              "</style>\n",
              "<table border=\"1\" class=\"dataframe\">\n",
              "  <thead>\n",
              "    <tr style=\"text-align: right;\">\n",
              "      <th></th>\n",
              "      <th>ground_truth</th>\n",
              "      <th>y_pred_log</th>\n",
              "      <th>y_pred_rf</th>\n",
              "      <th>correct_log</th>\n",
              "      <th>correct_rf</th>\n",
              "    </tr>\n",
              "  </thead>\n",
              "  <tbody>\n",
              "    <tr>\n",
              "      <th>0</th>\n",
              "      <td>1</td>\n",
              "      <td>2</td>\n",
              "      <td>2</td>\n",
              "      <td>No</td>\n",
              "      <td>No</td>\n",
              "    </tr>\n",
              "    <tr>\n",
              "      <th>1</th>\n",
              "      <td>1</td>\n",
              "      <td>1</td>\n",
              "      <td>1</td>\n",
              "      <td>Yes</td>\n",
              "      <td>Yes</td>\n",
              "    </tr>\n",
              "    <tr>\n",
              "      <th>2</th>\n",
              "      <td>1</td>\n",
              "      <td>1</td>\n",
              "      <td>1</td>\n",
              "      <td>Yes</td>\n",
              "      <td>Yes</td>\n",
              "    </tr>\n",
              "    <tr>\n",
              "      <th>3</th>\n",
              "      <td>1</td>\n",
              "      <td>1</td>\n",
              "      <td>1</td>\n",
              "      <td>Yes</td>\n",
              "      <td>Yes</td>\n",
              "    </tr>\n",
              "    <tr>\n",
              "      <th>4</th>\n",
              "      <td>1</td>\n",
              "      <td>1</td>\n",
              "      <td>1</td>\n",
              "      <td>Yes</td>\n",
              "      <td>Yes</td>\n",
              "    </tr>\n",
              "  </tbody>\n",
              "</table>\n",
              "</div>\n",
              "      <button class=\"colab-df-convert\" onclick=\"convertToInteractive('df-28eae650-8437-48dd-9287-666ee150748c')\"\n",
              "              title=\"Convert this dataframe to an interactive table.\"\n",
              "              style=\"display:none;\">\n",
              "        \n",
              "  <svg xmlns=\"http://www.w3.org/2000/svg\" height=\"24px\"viewBox=\"0 0 24 24\"\n",
              "       width=\"24px\">\n",
              "    <path d=\"M0 0h24v24H0V0z\" fill=\"none\"/>\n",
              "    <path d=\"M18.56 5.44l.94 2.06.94-2.06 2.06-.94-2.06-.94-.94-2.06-.94 2.06-2.06.94zm-11 1L8.5 8.5l.94-2.06 2.06-.94-2.06-.94L8.5 2.5l-.94 2.06-2.06.94zm10 10l.94 2.06.94-2.06 2.06-.94-2.06-.94-.94-2.06-.94 2.06-2.06.94z\"/><path d=\"M17.41 7.96l-1.37-1.37c-.4-.4-.92-.59-1.43-.59-.52 0-1.04.2-1.43.59L10.3 9.45l-7.72 7.72c-.78.78-.78 2.05 0 2.83L4 21.41c.39.39.9.59 1.41.59.51 0 1.02-.2 1.41-.59l7.78-7.78 2.81-2.81c.8-.78.8-2.07 0-2.86zM5.41 20L4 18.59l7.72-7.72 1.47 1.35L5.41 20z\"/>\n",
              "  </svg>\n",
              "      </button>\n",
              "      \n",
              "  <style>\n",
              "    .colab-df-container {\n",
              "      display:flex;\n",
              "      flex-wrap:wrap;\n",
              "      gap: 12px;\n",
              "    }\n",
              "\n",
              "    .colab-df-convert {\n",
              "      background-color: #E8F0FE;\n",
              "      border: none;\n",
              "      border-radius: 50%;\n",
              "      cursor: pointer;\n",
              "      display: none;\n",
              "      fill: #1967D2;\n",
              "      height: 32px;\n",
              "      padding: 0 0 0 0;\n",
              "      width: 32px;\n",
              "    }\n",
              "\n",
              "    .colab-df-convert:hover {\n",
              "      background-color: #E2EBFA;\n",
              "      box-shadow: 0px 1px 2px rgba(60, 64, 67, 0.3), 0px 1px 3px 1px rgba(60, 64, 67, 0.15);\n",
              "      fill: #174EA6;\n",
              "    }\n",
              "\n",
              "    [theme=dark] .colab-df-convert {\n",
              "      background-color: #3B4455;\n",
              "      fill: #D2E3FC;\n",
              "    }\n",
              "\n",
              "    [theme=dark] .colab-df-convert:hover {\n",
              "      background-color: #434B5C;\n",
              "      box-shadow: 0px 1px 3px 1px rgba(0, 0, 0, 0.15);\n",
              "      filter: drop-shadow(0px 1px 2px rgba(0, 0, 0, 0.3));\n",
              "      fill: #FFFFFF;\n",
              "    }\n",
              "  </style>\n",
              "\n",
              "      <script>\n",
              "        const buttonEl =\n",
              "          document.querySelector('#df-28eae650-8437-48dd-9287-666ee150748c button.colab-df-convert');\n",
              "        buttonEl.style.display =\n",
              "          google.colab.kernel.accessAllowed ? 'block' : 'none';\n",
              "\n",
              "        async function convertToInteractive(key) {\n",
              "          const element = document.querySelector('#df-28eae650-8437-48dd-9287-666ee150748c');\n",
              "          const dataTable =\n",
              "            await google.colab.kernel.invokeFunction('convertToInteractive',\n",
              "                                                     [key], {});\n",
              "          if (!dataTable) return;\n",
              "\n",
              "          const docLinkHtml = 'Like what you see? Visit the ' +\n",
              "            '<a target=\"_blank\" href=https://colab.research.google.com/notebooks/data_table.ipynb>data table notebook</a>'\n",
              "            + ' to learn more about interactive tables.';\n",
              "          element.innerHTML = '';\n",
              "          dataTable['output_type'] = 'display_data';\n",
              "          await google.colab.output.renderOutput(dataTable, element);\n",
              "          const docLink = document.createElement('div');\n",
              "          docLink.innerHTML = docLinkHtml;\n",
              "          element.appendChild(docLink);\n",
              "        }\n",
              "      </script>\n",
              "    </div>\n",
              "  </div>\n",
              "  "
            ]
          },
          "metadata": {},
          "execution_count": 44
        }
      ]
    },
    {
      "cell_type": "code",
      "metadata": {
        "colab": {
          "base_uri": "https://localhost:8080/",
          "height": 130
        },
        "id": "mB5xayom8Pmh",
        "outputId": "317e01ef-7655-4448-f58f-608d17c08ad6"
      },
      "source": [
        "\n",
        "contingency_table_df=pd.DataFrame(data={\"nr_correct_log\":[\"Yes/Yes\",\"No/Yes\"], \"nr_incorrect_log\":[\"Yes/No\",\"No/No\"]}, index=[\"nr_correct_rf\",\"nr_incorrect_rf\"])\n",
        "contingency_table_df"
      ],
      "execution_count": 45,
      "outputs": [
        {
          "output_type": "execute_result",
          "data": {
            "text/plain": [
              "                nr_correct_log nr_incorrect_log\n",
              "nr_correct_rf          Yes/Yes           Yes/No\n",
              "nr_incorrect_rf         No/Yes            No/No"
            ],
            "text/html": [
              "\n",
              "  <div id=\"df-d7560288-81a7-49c3-bc67-aea2900fa688\">\n",
              "    <div class=\"colab-df-container\">\n",
              "      <div>\n",
              "<style scoped>\n",
              "    .dataframe tbody tr th:only-of-type {\n",
              "        vertical-align: middle;\n",
              "    }\n",
              "\n",
              "    .dataframe tbody tr th {\n",
              "        vertical-align: top;\n",
              "    }\n",
              "\n",
              "    .dataframe thead th {\n",
              "        text-align: right;\n",
              "    }\n",
              "</style>\n",
              "<table border=\"1\" class=\"dataframe\">\n",
              "  <thead>\n",
              "    <tr style=\"text-align: right;\">\n",
              "      <th></th>\n",
              "      <th>nr_correct_log</th>\n",
              "      <th>nr_incorrect_log</th>\n",
              "    </tr>\n",
              "  </thead>\n",
              "  <tbody>\n",
              "    <tr>\n",
              "      <th>nr_correct_rf</th>\n",
              "      <td>Yes/Yes</td>\n",
              "      <td>Yes/No</td>\n",
              "    </tr>\n",
              "    <tr>\n",
              "      <th>nr_incorrect_rf</th>\n",
              "      <td>No/Yes</td>\n",
              "      <td>No/No</td>\n",
              "    </tr>\n",
              "  </tbody>\n",
              "</table>\n",
              "</div>\n",
              "      <button class=\"colab-df-convert\" onclick=\"convertToInteractive('df-d7560288-81a7-49c3-bc67-aea2900fa688')\"\n",
              "              title=\"Convert this dataframe to an interactive table.\"\n",
              "              style=\"display:none;\">\n",
              "        \n",
              "  <svg xmlns=\"http://www.w3.org/2000/svg\" height=\"24px\"viewBox=\"0 0 24 24\"\n",
              "       width=\"24px\">\n",
              "    <path d=\"M0 0h24v24H0V0z\" fill=\"none\"/>\n",
              "    <path d=\"M18.56 5.44l.94 2.06.94-2.06 2.06-.94-2.06-.94-.94-2.06-.94 2.06-2.06.94zm-11 1L8.5 8.5l.94-2.06 2.06-.94-2.06-.94L8.5 2.5l-.94 2.06-2.06.94zm10 10l.94 2.06.94-2.06 2.06-.94-2.06-.94-.94-2.06-.94 2.06-2.06.94z\"/><path d=\"M17.41 7.96l-1.37-1.37c-.4-.4-.92-.59-1.43-.59-.52 0-1.04.2-1.43.59L10.3 9.45l-7.72 7.72c-.78.78-.78 2.05 0 2.83L4 21.41c.39.39.9.59 1.41.59.51 0 1.02-.2 1.41-.59l7.78-7.78 2.81-2.81c.8-.78.8-2.07 0-2.86zM5.41 20L4 18.59l7.72-7.72 1.47 1.35L5.41 20z\"/>\n",
              "  </svg>\n",
              "      </button>\n",
              "      \n",
              "  <style>\n",
              "    .colab-df-container {\n",
              "      display:flex;\n",
              "      flex-wrap:wrap;\n",
              "      gap: 12px;\n",
              "    }\n",
              "\n",
              "    .colab-df-convert {\n",
              "      background-color: #E8F0FE;\n",
              "      border: none;\n",
              "      border-radius: 50%;\n",
              "      cursor: pointer;\n",
              "      display: none;\n",
              "      fill: #1967D2;\n",
              "      height: 32px;\n",
              "      padding: 0 0 0 0;\n",
              "      width: 32px;\n",
              "    }\n",
              "\n",
              "    .colab-df-convert:hover {\n",
              "      background-color: #E2EBFA;\n",
              "      box-shadow: 0px 1px 2px rgba(60, 64, 67, 0.3), 0px 1px 3px 1px rgba(60, 64, 67, 0.15);\n",
              "      fill: #174EA6;\n",
              "    }\n",
              "\n",
              "    [theme=dark] .colab-df-convert {\n",
              "      background-color: #3B4455;\n",
              "      fill: #D2E3FC;\n",
              "    }\n",
              "\n",
              "    [theme=dark] .colab-df-convert:hover {\n",
              "      background-color: #434B5C;\n",
              "      box-shadow: 0px 1px 3px 1px rgba(0, 0, 0, 0.15);\n",
              "      filter: drop-shadow(0px 1px 2px rgba(0, 0, 0, 0.3));\n",
              "      fill: #FFFFFF;\n",
              "    }\n",
              "  </style>\n",
              "\n",
              "      <script>\n",
              "        const buttonEl =\n",
              "          document.querySelector('#df-d7560288-81a7-49c3-bc67-aea2900fa688 button.colab-df-convert');\n",
              "        buttonEl.style.display =\n",
              "          google.colab.kernel.accessAllowed ? 'block' : 'none';\n",
              "\n",
              "        async function convertToInteractive(key) {\n",
              "          const element = document.querySelector('#df-d7560288-81a7-49c3-bc67-aea2900fa688');\n",
              "          const dataTable =\n",
              "            await google.colab.kernel.invokeFunction('convertToInteractive',\n",
              "                                                     [key], {});\n",
              "          if (!dataTable) return;\n",
              "\n",
              "          const docLinkHtml = 'Like what you see? Visit the ' +\n",
              "            '<a target=\"_blank\" href=https://colab.research.google.com/notebooks/data_table.ipynb>data table notebook</a>'\n",
              "            + ' to learn more about interactive tables.';\n",
              "          element.innerHTML = '';\n",
              "          dataTable['output_type'] = 'display_data';\n",
              "          await google.colab.output.renderOutput(dataTable, element);\n",
              "          const docLink = document.createElement('div');\n",
              "          docLink.innerHTML = docLinkHtml;\n",
              "          element.appendChild(docLink);\n",
              "        }\n",
              "      </script>\n",
              "    </div>\n",
              "  </div>\n",
              "  "
            ]
          },
          "metadata": {},
          "execution_count": 45
        }
      ]
    },
    {
      "cell_type": "code",
      "metadata": {
        "colab": {
          "base_uri": "https://localhost:8080/"
        },
        "id": "MoYAm8aZ_P5O",
        "outputId": "4c487fb9-4335-4fe1-c891-77a47eb27c36"
      },
      "source": [
        "nr_corr_rf_corr_log=0\n",
        "nr_corr_rf_incorr_log=0\n",
        "nr_incorr_rf_corr_log=0\n",
        "nr_incorr_rf_incorr_log=0\n",
        "for index, row in mc_data.iterrows():\n",
        "    if  row['correct_rf']== \"Yes\" and  row['correct_log']==\"Yes\":\n",
        "      nr_corr_rf_corr_log+=1\n",
        "    elif row['correct_rf']== \"Yes\" and  row['correct_log']==\"No\":\n",
        "      nr_corr_rf_incorr_log+=1\n",
        "    elif row['correct_rf']== \"No\" and  row['correct_log']==\"Yes\":\n",
        "      nr_incorr_rf_corr_log+=1\n",
        "    elif row['correct_rf']== \"No\" and  row['correct_log']==\"No\":\n",
        "      nr_incorr_rf_incorr_log+=1\n",
        "\n",
        "nr_corr_rf_corr_log\n",
        "nr_corr_rf_incorr_log\n",
        "nr_incorr_rf_corr_log\n",
        "nr_incorr_rf_incorr_log\n",
        "\n"
      ],
      "execution_count": 46,
      "outputs": [
        {
          "output_type": "execute_result",
          "data": {
            "text/plain": [
              "1059"
            ]
          },
          "metadata": {},
          "execution_count": 46
        }
      ]
    },
    {
      "cell_type": "code",
      "metadata": {
        "colab": {
          "base_uri": "https://localhost:8080/",
          "height": 130
        },
        "id": "dfzTaFD9V8fq",
        "outputId": "695b92d1-e81c-4068-efbb-3de1b32ff03c"
      },
      "source": [
        "contingency_table_df.iloc[0,0]=nr_corr_rf_corr_log\n",
        "contingency_table_df.iloc[0,1]=nr_corr_rf_incorr_log\n",
        "contingency_table_df.iloc[1,0]=nr_incorr_rf_corr_log\n",
        "contingency_table_df.iloc[1,1]=nr_incorr_rf_incorr_log\n",
        "contingency_table_df"
      ],
      "execution_count": 47,
      "outputs": [
        {
          "output_type": "execute_result",
          "data": {
            "text/plain": [
              "                nr_correct_log nr_incorrect_log\n",
              "nr_correct_rf            12980              542\n",
              "nr_incorrect_rf            339             1059"
            ],
            "text/html": [
              "\n",
              "  <div id=\"df-da56a58b-b682-431b-8088-250e2484264d\">\n",
              "    <div class=\"colab-df-container\">\n",
              "      <div>\n",
              "<style scoped>\n",
              "    .dataframe tbody tr th:only-of-type {\n",
              "        vertical-align: middle;\n",
              "    }\n",
              "\n",
              "    .dataframe tbody tr th {\n",
              "        vertical-align: top;\n",
              "    }\n",
              "\n",
              "    .dataframe thead th {\n",
              "        text-align: right;\n",
              "    }\n",
              "</style>\n",
              "<table border=\"1\" class=\"dataframe\">\n",
              "  <thead>\n",
              "    <tr style=\"text-align: right;\">\n",
              "      <th></th>\n",
              "      <th>nr_correct_log</th>\n",
              "      <th>nr_incorrect_log</th>\n",
              "    </tr>\n",
              "  </thead>\n",
              "  <tbody>\n",
              "    <tr>\n",
              "      <th>nr_correct_rf</th>\n",
              "      <td>12980</td>\n",
              "      <td>542</td>\n",
              "    </tr>\n",
              "    <tr>\n",
              "      <th>nr_incorrect_rf</th>\n",
              "      <td>339</td>\n",
              "      <td>1059</td>\n",
              "    </tr>\n",
              "  </tbody>\n",
              "</table>\n",
              "</div>\n",
              "      <button class=\"colab-df-convert\" onclick=\"convertToInteractive('df-da56a58b-b682-431b-8088-250e2484264d')\"\n",
              "              title=\"Convert this dataframe to an interactive table.\"\n",
              "              style=\"display:none;\">\n",
              "        \n",
              "  <svg xmlns=\"http://www.w3.org/2000/svg\" height=\"24px\"viewBox=\"0 0 24 24\"\n",
              "       width=\"24px\">\n",
              "    <path d=\"M0 0h24v24H0V0z\" fill=\"none\"/>\n",
              "    <path d=\"M18.56 5.44l.94 2.06.94-2.06 2.06-.94-2.06-.94-.94-2.06-.94 2.06-2.06.94zm-11 1L8.5 8.5l.94-2.06 2.06-.94-2.06-.94L8.5 2.5l-.94 2.06-2.06.94zm10 10l.94 2.06.94-2.06 2.06-.94-2.06-.94-.94-2.06-.94 2.06-2.06.94z\"/><path d=\"M17.41 7.96l-1.37-1.37c-.4-.4-.92-.59-1.43-.59-.52 0-1.04.2-1.43.59L10.3 9.45l-7.72 7.72c-.78.78-.78 2.05 0 2.83L4 21.41c.39.39.9.59 1.41.59.51 0 1.02-.2 1.41-.59l7.78-7.78 2.81-2.81c.8-.78.8-2.07 0-2.86zM5.41 20L4 18.59l7.72-7.72 1.47 1.35L5.41 20z\"/>\n",
              "  </svg>\n",
              "      </button>\n",
              "      \n",
              "  <style>\n",
              "    .colab-df-container {\n",
              "      display:flex;\n",
              "      flex-wrap:wrap;\n",
              "      gap: 12px;\n",
              "    }\n",
              "\n",
              "    .colab-df-convert {\n",
              "      background-color: #E8F0FE;\n",
              "      border: none;\n",
              "      border-radius: 50%;\n",
              "      cursor: pointer;\n",
              "      display: none;\n",
              "      fill: #1967D2;\n",
              "      height: 32px;\n",
              "      padding: 0 0 0 0;\n",
              "      width: 32px;\n",
              "    }\n",
              "\n",
              "    .colab-df-convert:hover {\n",
              "      background-color: #E2EBFA;\n",
              "      box-shadow: 0px 1px 2px rgba(60, 64, 67, 0.3), 0px 1px 3px 1px rgba(60, 64, 67, 0.15);\n",
              "      fill: #174EA6;\n",
              "    }\n",
              "\n",
              "    [theme=dark] .colab-df-convert {\n",
              "      background-color: #3B4455;\n",
              "      fill: #D2E3FC;\n",
              "    }\n",
              "\n",
              "    [theme=dark] .colab-df-convert:hover {\n",
              "      background-color: #434B5C;\n",
              "      box-shadow: 0px 1px 3px 1px rgba(0, 0, 0, 0.15);\n",
              "      filter: drop-shadow(0px 1px 2px rgba(0, 0, 0, 0.3));\n",
              "      fill: #FFFFFF;\n",
              "    }\n",
              "  </style>\n",
              "\n",
              "      <script>\n",
              "        const buttonEl =\n",
              "          document.querySelector('#df-da56a58b-b682-431b-8088-250e2484264d button.colab-df-convert');\n",
              "        buttonEl.style.display =\n",
              "          google.colab.kernel.accessAllowed ? 'block' : 'none';\n",
              "\n",
              "        async function convertToInteractive(key) {\n",
              "          const element = document.querySelector('#df-da56a58b-b682-431b-8088-250e2484264d');\n",
              "          const dataTable =\n",
              "            await google.colab.kernel.invokeFunction('convertToInteractive',\n",
              "                                                     [key], {});\n",
              "          if (!dataTable) return;\n",
              "\n",
              "          const docLinkHtml = 'Like what you see? Visit the ' +\n",
              "            '<a target=\"_blank\" href=https://colab.research.google.com/notebooks/data_table.ipynb>data table notebook</a>'\n",
              "            + ' to learn more about interactive tables.';\n",
              "          element.innerHTML = '';\n",
              "          dataTable['output_type'] = 'display_data';\n",
              "          await google.colab.output.renderOutput(dataTable, element);\n",
              "          const docLink = document.createElement('div');\n",
              "          docLink.innerHTML = docLinkHtml;\n",
              "          element.appendChild(docLink);\n",
              "        }\n",
              "      </script>\n",
              "    </div>\n",
              "  </div>\n",
              "  "
            ]
          },
          "metadata": {},
          "execution_count": 47
        }
      ]
    },
    {
      "cell_type": "markdown",
      "metadata": {
        "id": "5CqQbUU4DHoF"
      },
      "source": [
        "After calculating the Contingency Table, we need to define your hypothesis:\n",
        "\n",
        "\n",
        "*   H0: on average, the random forest and the logistic regression perform the same\n",
        "*   H1: on average, the random forest and the logistic regression do not perform the same"
      ]
    },
    {
      "cell_type": "code",
      "metadata": {
        "colab": {
          "base_uri": "https://localhost:8080/"
        },
        "id": "mKSAIp6PNArt",
        "outputId": "ef822e47-4a4f-416b-932f-45a61c092dbe"
      },
      "source": [
        "# write the formulla here \n",
        "#[start here] \n",
        "# chi2_Mc= (|B-C|-1)^2 / (B+C)\n",
        "B = nr_corr_rf_incorr_log\n",
        "C = nr_incorr_rf_corr_log\n",
        "\n",
        "chi2_Mc = (np.abs(B-C)-1)**2/(B+C)\n",
        "\n",
        "# [end here]\n",
        "# print \n",
        "chi2_Mc  "
      ],
      "execution_count": 48,
      "outputs": [
        {
          "output_type": "execute_result",
          "data": {
            "text/plain": [
              "46.315550510783204"
            ]
          },
          "metadata": {},
          "execution_count": 48
        }
      ]
    },
    {
      "cell_type": "code",
      "metadata": {
        "colab": {
          "base_uri": "https://localhost:8080/"
        },
        "id": "HqudN7dSTTVS",
        "outputId": "06ed71a5-f65c-4949-f37c-b0ec241a2480"
      },
      "source": [
        "from statsmodels.stats.contingency_tables import mcnemar\n",
        "# define contingency table\n",
        "contingency_table = [[12999, 525],\n",
        "\t\t [317, 1079]]\n",
        "# calculate mcnemar test\n",
        "result = mcnemar(contingency_table, exact=False, correction=True)\n",
        "# summarize the finding\n",
        "print('statistic=%.3f, p-value=%.3f' % (result.statistic, result.pvalue))\n",
        "# interpret the p-value\n",
        "alpha = 0.05\n",
        "if result.pvalue > alpha:\n",
        "\tprint('Same proportions of errors (fail to reject H0)')\n",
        "else:\n",
        "\tprint('Different proportions of errors (reject H0)')"
      ],
      "execution_count": 49,
      "outputs": [
        {
          "output_type": "stream",
          "name": "stdout",
          "text": [
            "statistic=50.890, p-value=0.000\n",
            "Different proportions of errors (reject H0)\n"
          ]
        }
      ]
    },
    {
      "cell_type": "markdown",
      "metadata": {
        "id": "us9cHvS7G-uo"
      },
      "source": [
        "# Friedman Test\n",
        "ftestdata.csv contains error values of k = 6 algorithms on n = 194 datasets, the function load data FTest() loads the data as an n × k numpy matrix Err, where Errij represents the error of the jth algorithm on the ith dataset. \n",
        "Implement a Friedman Test to determine if all algorithms are equivalent in their performance and return χ2F for this evaluation. If this hypothesis is not rejected, you can skip the next question. "
      ]
    },
    {
      "cell_type": "code",
      "metadata": {
        "colab": {
          "base_uri": "https://localhost:8080/",
          "height": 371
        },
        "id": "fckOwGMCc32u",
        "outputId": "5c69f00c-abe4-419b-91ae-45c4dc968b22"
      },
      "source": [
        "# you need to download the ftestdata.csv from the moodle\n",
        "ftestdata=pd.read_csv(\"ftestdata.csv\")\n",
        "ftestdata"
      ],
      "execution_count": 50,
      "outputs": [
        {
          "output_type": "error",
          "ename": "FileNotFoundError",
          "evalue": "ignored",
          "traceback": [
            "\u001b[0;31m---------------------------------------------------------------------------\u001b[0m",
            "\u001b[0;31mFileNotFoundError\u001b[0m                         Traceback (most recent call last)",
            "\u001b[0;32m<ipython-input-50-1aac3f6c715b>\u001b[0m in \u001b[0;36m<module>\u001b[0;34m\u001b[0m\n\u001b[1;32m      1\u001b[0m \u001b[0;31m# you need to download the ftestdata.csv from the moodle\u001b[0m\u001b[0;34m\u001b[0m\u001b[0;34m\u001b[0m\u001b[0;34m\u001b[0m\u001b[0m\n\u001b[0;32m----> 2\u001b[0;31m \u001b[0mftestdata\u001b[0m\u001b[0;34m=\u001b[0m\u001b[0mpd\u001b[0m\u001b[0;34m.\u001b[0m\u001b[0mread_csv\u001b[0m\u001b[0;34m(\u001b[0m\u001b[0;34m\"ftestdata.csv\"\u001b[0m\u001b[0;34m)\u001b[0m\u001b[0;34m\u001b[0m\u001b[0;34m\u001b[0m\u001b[0m\n\u001b[0m\u001b[1;32m      3\u001b[0m \u001b[0mftestdata\u001b[0m\u001b[0;34m\u001b[0m\u001b[0;34m\u001b[0m\u001b[0m\n",
            "\u001b[0;32m/usr/local/lib/python3.7/dist-packages/pandas/util/_decorators.py\u001b[0m in \u001b[0;36mwrapper\u001b[0;34m(*args, **kwargs)\u001b[0m\n\u001b[1;32m    309\u001b[0m                     \u001b[0mstacklevel\u001b[0m\u001b[0;34m=\u001b[0m\u001b[0mstacklevel\u001b[0m\u001b[0;34m,\u001b[0m\u001b[0;34m\u001b[0m\u001b[0;34m\u001b[0m\u001b[0m\n\u001b[1;32m    310\u001b[0m                 )\n\u001b[0;32m--> 311\u001b[0;31m             \u001b[0;32mreturn\u001b[0m \u001b[0mfunc\u001b[0m\u001b[0;34m(\u001b[0m\u001b[0;34m*\u001b[0m\u001b[0margs\u001b[0m\u001b[0;34m,\u001b[0m \u001b[0;34m**\u001b[0m\u001b[0mkwargs\u001b[0m\u001b[0;34m)\u001b[0m\u001b[0;34m\u001b[0m\u001b[0;34m\u001b[0m\u001b[0m\n\u001b[0m\u001b[1;32m    312\u001b[0m \u001b[0;34m\u001b[0m\u001b[0m\n\u001b[1;32m    313\u001b[0m         \u001b[0;32mreturn\u001b[0m \u001b[0mwrapper\u001b[0m\u001b[0;34m\u001b[0m\u001b[0;34m\u001b[0m\u001b[0m\n",
            "\u001b[0;32m/usr/local/lib/python3.7/dist-packages/pandas/io/parsers/readers.py\u001b[0m in \u001b[0;36mread_csv\u001b[0;34m(filepath_or_buffer, sep, delimiter, header, names, index_col, usecols, squeeze, prefix, mangle_dupe_cols, dtype, engine, converters, true_values, false_values, skipinitialspace, skiprows, skipfooter, nrows, na_values, keep_default_na, na_filter, verbose, skip_blank_lines, parse_dates, infer_datetime_format, keep_date_col, date_parser, dayfirst, cache_dates, iterator, chunksize, compression, thousands, decimal, lineterminator, quotechar, quoting, doublequote, escapechar, comment, encoding, encoding_errors, dialect, error_bad_lines, warn_bad_lines, on_bad_lines, delim_whitespace, low_memory, memory_map, float_precision, storage_options)\u001b[0m\n\u001b[1;32m    584\u001b[0m     \u001b[0mkwds\u001b[0m\u001b[0;34m.\u001b[0m\u001b[0mupdate\u001b[0m\u001b[0;34m(\u001b[0m\u001b[0mkwds_defaults\u001b[0m\u001b[0;34m)\u001b[0m\u001b[0;34m\u001b[0m\u001b[0;34m\u001b[0m\u001b[0m\n\u001b[1;32m    585\u001b[0m \u001b[0;34m\u001b[0m\u001b[0m\n\u001b[0;32m--> 586\u001b[0;31m     \u001b[0;32mreturn\u001b[0m \u001b[0m_read\u001b[0m\u001b[0;34m(\u001b[0m\u001b[0mfilepath_or_buffer\u001b[0m\u001b[0;34m,\u001b[0m \u001b[0mkwds\u001b[0m\u001b[0;34m)\u001b[0m\u001b[0;34m\u001b[0m\u001b[0;34m\u001b[0m\u001b[0m\n\u001b[0m\u001b[1;32m    587\u001b[0m \u001b[0;34m\u001b[0m\u001b[0m\n\u001b[1;32m    588\u001b[0m \u001b[0;34m\u001b[0m\u001b[0m\n",
            "\u001b[0;32m/usr/local/lib/python3.7/dist-packages/pandas/io/parsers/readers.py\u001b[0m in \u001b[0;36m_read\u001b[0;34m(filepath_or_buffer, kwds)\u001b[0m\n\u001b[1;32m    480\u001b[0m \u001b[0;34m\u001b[0m\u001b[0m\n\u001b[1;32m    481\u001b[0m     \u001b[0;31m# Create the parser.\u001b[0m\u001b[0;34m\u001b[0m\u001b[0;34m\u001b[0m\u001b[0;34m\u001b[0m\u001b[0m\n\u001b[0;32m--> 482\u001b[0;31m     \u001b[0mparser\u001b[0m \u001b[0;34m=\u001b[0m \u001b[0mTextFileReader\u001b[0m\u001b[0;34m(\u001b[0m\u001b[0mfilepath_or_buffer\u001b[0m\u001b[0;34m,\u001b[0m \u001b[0;34m**\u001b[0m\u001b[0mkwds\u001b[0m\u001b[0;34m)\u001b[0m\u001b[0;34m\u001b[0m\u001b[0;34m\u001b[0m\u001b[0m\n\u001b[0m\u001b[1;32m    483\u001b[0m \u001b[0;34m\u001b[0m\u001b[0m\n\u001b[1;32m    484\u001b[0m     \u001b[0;32mif\u001b[0m \u001b[0mchunksize\u001b[0m \u001b[0;32mor\u001b[0m \u001b[0miterator\u001b[0m\u001b[0;34m:\u001b[0m\u001b[0;34m\u001b[0m\u001b[0;34m\u001b[0m\u001b[0m\n",
            "\u001b[0;32m/usr/local/lib/python3.7/dist-packages/pandas/io/parsers/readers.py\u001b[0m in \u001b[0;36m__init__\u001b[0;34m(self, f, engine, **kwds)\u001b[0m\n\u001b[1;32m    809\u001b[0m             \u001b[0mself\u001b[0m\u001b[0;34m.\u001b[0m\u001b[0moptions\u001b[0m\u001b[0;34m[\u001b[0m\u001b[0;34m\"has_index_names\"\u001b[0m\u001b[0;34m]\u001b[0m \u001b[0;34m=\u001b[0m \u001b[0mkwds\u001b[0m\u001b[0;34m[\u001b[0m\u001b[0;34m\"has_index_names\"\u001b[0m\u001b[0;34m]\u001b[0m\u001b[0;34m\u001b[0m\u001b[0;34m\u001b[0m\u001b[0m\n\u001b[1;32m    810\u001b[0m \u001b[0;34m\u001b[0m\u001b[0m\n\u001b[0;32m--> 811\u001b[0;31m         \u001b[0mself\u001b[0m\u001b[0;34m.\u001b[0m\u001b[0m_engine\u001b[0m \u001b[0;34m=\u001b[0m \u001b[0mself\u001b[0m\u001b[0;34m.\u001b[0m\u001b[0m_make_engine\u001b[0m\u001b[0;34m(\u001b[0m\u001b[0mself\u001b[0m\u001b[0;34m.\u001b[0m\u001b[0mengine\u001b[0m\u001b[0;34m)\u001b[0m\u001b[0;34m\u001b[0m\u001b[0;34m\u001b[0m\u001b[0m\n\u001b[0m\u001b[1;32m    812\u001b[0m \u001b[0;34m\u001b[0m\u001b[0m\n\u001b[1;32m    813\u001b[0m     \u001b[0;32mdef\u001b[0m \u001b[0mclose\u001b[0m\u001b[0;34m(\u001b[0m\u001b[0mself\u001b[0m\u001b[0;34m)\u001b[0m\u001b[0;34m:\u001b[0m\u001b[0;34m\u001b[0m\u001b[0;34m\u001b[0m\u001b[0m\n",
            "\u001b[0;32m/usr/local/lib/python3.7/dist-packages/pandas/io/parsers/readers.py\u001b[0m in \u001b[0;36m_make_engine\u001b[0;34m(self, engine)\u001b[0m\n\u001b[1;32m   1038\u001b[0m             )\n\u001b[1;32m   1039\u001b[0m         \u001b[0;31m# error: Too many arguments for \"ParserBase\"\u001b[0m\u001b[0;34m\u001b[0m\u001b[0;34m\u001b[0m\u001b[0;34m\u001b[0m\u001b[0m\n\u001b[0;32m-> 1040\u001b[0;31m         \u001b[0;32mreturn\u001b[0m \u001b[0mmapping\u001b[0m\u001b[0;34m[\u001b[0m\u001b[0mengine\u001b[0m\u001b[0;34m]\u001b[0m\u001b[0;34m(\u001b[0m\u001b[0mself\u001b[0m\u001b[0;34m.\u001b[0m\u001b[0mf\u001b[0m\u001b[0;34m,\u001b[0m \u001b[0;34m**\u001b[0m\u001b[0mself\u001b[0m\u001b[0;34m.\u001b[0m\u001b[0moptions\u001b[0m\u001b[0;34m)\u001b[0m  \u001b[0;31m# type: ignore[call-arg]\u001b[0m\u001b[0;34m\u001b[0m\u001b[0;34m\u001b[0m\u001b[0m\n\u001b[0m\u001b[1;32m   1041\u001b[0m \u001b[0;34m\u001b[0m\u001b[0m\n\u001b[1;32m   1042\u001b[0m     \u001b[0;32mdef\u001b[0m \u001b[0m_failover_to_python\u001b[0m\u001b[0;34m(\u001b[0m\u001b[0mself\u001b[0m\u001b[0;34m)\u001b[0m\u001b[0;34m:\u001b[0m\u001b[0;34m\u001b[0m\u001b[0;34m\u001b[0m\u001b[0m\n",
            "\u001b[0;32m/usr/local/lib/python3.7/dist-packages/pandas/io/parsers/c_parser_wrapper.py\u001b[0m in \u001b[0;36m__init__\u001b[0;34m(self, src, **kwds)\u001b[0m\n\u001b[1;32m     49\u001b[0m \u001b[0;34m\u001b[0m\u001b[0m\n\u001b[1;32m     50\u001b[0m         \u001b[0;31m# open handles\u001b[0m\u001b[0;34m\u001b[0m\u001b[0;34m\u001b[0m\u001b[0;34m\u001b[0m\u001b[0m\n\u001b[0;32m---> 51\u001b[0;31m         \u001b[0mself\u001b[0m\u001b[0;34m.\u001b[0m\u001b[0m_open_handles\u001b[0m\u001b[0;34m(\u001b[0m\u001b[0msrc\u001b[0m\u001b[0;34m,\u001b[0m \u001b[0mkwds\u001b[0m\u001b[0;34m)\u001b[0m\u001b[0;34m\u001b[0m\u001b[0;34m\u001b[0m\u001b[0m\n\u001b[0m\u001b[1;32m     52\u001b[0m         \u001b[0;32massert\u001b[0m \u001b[0mself\u001b[0m\u001b[0;34m.\u001b[0m\u001b[0mhandles\u001b[0m \u001b[0;32mis\u001b[0m \u001b[0;32mnot\u001b[0m \u001b[0;32mNone\u001b[0m\u001b[0;34m\u001b[0m\u001b[0;34m\u001b[0m\u001b[0m\n\u001b[1;32m     53\u001b[0m \u001b[0;34m\u001b[0m\u001b[0m\n",
            "\u001b[0;32m/usr/local/lib/python3.7/dist-packages/pandas/io/parsers/base_parser.py\u001b[0m in \u001b[0;36m_open_handles\u001b[0;34m(self, src, kwds)\u001b[0m\n\u001b[1;32m    227\u001b[0m             \u001b[0mmemory_map\u001b[0m\u001b[0;34m=\u001b[0m\u001b[0mkwds\u001b[0m\u001b[0;34m.\u001b[0m\u001b[0mget\u001b[0m\u001b[0;34m(\u001b[0m\u001b[0;34m\"memory_map\"\u001b[0m\u001b[0;34m,\u001b[0m \u001b[0;32mFalse\u001b[0m\u001b[0;34m)\u001b[0m\u001b[0;34m,\u001b[0m\u001b[0;34m\u001b[0m\u001b[0;34m\u001b[0m\u001b[0m\n\u001b[1;32m    228\u001b[0m             \u001b[0mstorage_options\u001b[0m\u001b[0;34m=\u001b[0m\u001b[0mkwds\u001b[0m\u001b[0;34m.\u001b[0m\u001b[0mget\u001b[0m\u001b[0;34m(\u001b[0m\u001b[0;34m\"storage_options\"\u001b[0m\u001b[0;34m,\u001b[0m \u001b[0;32mNone\u001b[0m\u001b[0;34m)\u001b[0m\u001b[0;34m,\u001b[0m\u001b[0;34m\u001b[0m\u001b[0;34m\u001b[0m\u001b[0m\n\u001b[0;32m--> 229\u001b[0;31m             \u001b[0merrors\u001b[0m\u001b[0;34m=\u001b[0m\u001b[0mkwds\u001b[0m\u001b[0;34m.\u001b[0m\u001b[0mget\u001b[0m\u001b[0;34m(\u001b[0m\u001b[0;34m\"encoding_errors\"\u001b[0m\u001b[0;34m,\u001b[0m \u001b[0;34m\"strict\"\u001b[0m\u001b[0;34m)\u001b[0m\u001b[0;34m,\u001b[0m\u001b[0;34m\u001b[0m\u001b[0;34m\u001b[0m\u001b[0m\n\u001b[0m\u001b[1;32m    230\u001b[0m         )\n\u001b[1;32m    231\u001b[0m \u001b[0;34m\u001b[0m\u001b[0m\n",
            "\u001b[0;32m/usr/local/lib/python3.7/dist-packages/pandas/io/common.py\u001b[0m in \u001b[0;36mget_handle\u001b[0;34m(path_or_buf, mode, encoding, compression, memory_map, is_text, errors, storage_options)\u001b[0m\n\u001b[1;32m    705\u001b[0m                 \u001b[0mencoding\u001b[0m\u001b[0;34m=\u001b[0m\u001b[0mioargs\u001b[0m\u001b[0;34m.\u001b[0m\u001b[0mencoding\u001b[0m\u001b[0;34m,\u001b[0m\u001b[0;34m\u001b[0m\u001b[0;34m\u001b[0m\u001b[0m\n\u001b[1;32m    706\u001b[0m                 \u001b[0merrors\u001b[0m\u001b[0;34m=\u001b[0m\u001b[0merrors\u001b[0m\u001b[0;34m,\u001b[0m\u001b[0;34m\u001b[0m\u001b[0;34m\u001b[0m\u001b[0m\n\u001b[0;32m--> 707\u001b[0;31m                 \u001b[0mnewline\u001b[0m\u001b[0;34m=\u001b[0m\u001b[0;34m\"\"\u001b[0m\u001b[0;34m,\u001b[0m\u001b[0;34m\u001b[0m\u001b[0;34m\u001b[0m\u001b[0m\n\u001b[0m\u001b[1;32m    708\u001b[0m             )\n\u001b[1;32m    709\u001b[0m         \u001b[0;32melse\u001b[0m\u001b[0;34m:\u001b[0m\u001b[0;34m\u001b[0m\u001b[0;34m\u001b[0m\u001b[0m\n",
            "\u001b[0;31mFileNotFoundError\u001b[0m: [Errno 2] No such file or directory: 'ftestdata.csv'"
          ]
        }
      ]
    },
    {
      "cell_type": "code",
      "metadata": {
        "id": "5Yjuc7TjcOC3"
      },
      "source": [
        "# Friedman test\n",
        "from scipy.stats import friedmanchisquare\n",
        " \n",
        "# Select data based on each classifier\n",
        "AB = ftestdata[\"AB\"]\n",
        "ET = ftestdata[\"ET\"]\n",
        "RF = ftestdata[\"RF\"]\n",
        "GB = ftestdata[\"GB\"]\n",
        "DT = ftestdata[\"DT\"]\n",
        "SVM = ftestdata[\"SVM\"]\n",
        "# compare samples\n",
        "stat, p = friedmanchisquare(AB, ET, RF,GB,DT,SVM)\n",
        "print('Statistics=%.3f, p=%.3f' % (stat, p))\n",
        "# interpret\n",
        "alpha = 0.05\n",
        "if p > alpha:\n",
        "\tprint('Same distributions (fail to reject H0)')\n",
        "else:\n",
        "\tprint('Different distributions (reject H0)')"
      ],
      "execution_count": null,
      "outputs": []
    },
    {
      "cell_type": "markdown",
      "source": [
        "Ada Boost, ET, Random Forest, Decision Tree, Gradient Boosting, Support Vector Machine"
      ],
      "metadata": {
        "id": "G0gSp9ETXW_Q"
      }
    },
    {
      "cell_type": "markdown",
      "metadata": {
        "id": "h9QsuGvKJNuB"
      },
      "source": [
        "# Post-hoc Nemenyi Test\n",
        "Having found that all the algorithms are not ranked equally, now we need to utilize the Post-hoc Nemenyi Test to find the best-performing algorithm. \n",
        "Compute the the test statistic for all the algorithms pairs {j1,j2}. The results should be stored in a upper triangular matrix Q, where Qm,n is the q value between the algorithms jm and jn "
      ]
    },
    {
      "cell_type": "code",
      "metadata": {
        "id": "Cag9Aok9cNtb",
        "colab": {
          "base_uri": "https://localhost:8080/"
        },
        "outputId": "80e0930d-1156-4ca5-a2d2-c1c96bb1b4b4"
      },
      "source": [
        "!pip install scikit-posthocs"
      ],
      "execution_count": 51,
      "outputs": [
        {
          "output_type": "stream",
          "name": "stdout",
          "text": [
            "Looking in indexes: https://pypi.org/simple, https://us-python.pkg.dev/colab-wheels/public/simple/\n",
            "Collecting scikit-posthocs\n",
            "  Downloading scikit_posthocs-0.7.0-py3-none-any.whl (38 kB)\n",
            "Requirement already satisfied: pandas>=0.20.0 in /usr/local/lib/python3.7/dist-packages (from scikit-posthocs) (1.3.5)\n",
            "Requirement already satisfied: numpy in /usr/local/lib/python3.7/dist-packages (from scikit-posthocs) (1.21.6)\n",
            "Requirement already satisfied: matplotlib in /usr/local/lib/python3.7/dist-packages (from scikit-posthocs) (3.2.2)\n",
            "Requirement already satisfied: scipy in /usr/local/lib/python3.7/dist-packages (from scikit-posthocs) (1.7.3)\n",
            "Requirement already satisfied: seaborn in /usr/local/lib/python3.7/dist-packages (from scikit-posthocs) (0.11.2)\n",
            "Requirement already satisfied: statsmodels in /usr/local/lib/python3.7/dist-packages (from scikit-posthocs) (0.12.2)\n",
            "Requirement already satisfied: pytz>=2017.3 in /usr/local/lib/python3.7/dist-packages (from pandas>=0.20.0->scikit-posthocs) (2022.2.1)\n",
            "Requirement already satisfied: python-dateutil>=2.7.3 in /usr/local/lib/python3.7/dist-packages (from pandas>=0.20.0->scikit-posthocs) (2.8.2)\n",
            "Requirement already satisfied: six>=1.5 in /usr/local/lib/python3.7/dist-packages (from python-dateutil>=2.7.3->pandas>=0.20.0->scikit-posthocs) (1.15.0)\n",
            "Requirement already satisfied: cycler>=0.10 in /usr/local/lib/python3.7/dist-packages (from matplotlib->scikit-posthocs) (0.11.0)\n",
            "Requirement already satisfied: kiwisolver>=1.0.1 in /usr/local/lib/python3.7/dist-packages (from matplotlib->scikit-posthocs) (1.4.4)\n",
            "Requirement already satisfied: pyparsing!=2.0.4,!=2.1.2,!=2.1.6,>=2.0.1 in /usr/local/lib/python3.7/dist-packages (from matplotlib->scikit-posthocs) (3.0.9)\n",
            "Requirement already satisfied: typing-extensions in /usr/local/lib/python3.7/dist-packages (from kiwisolver>=1.0.1->matplotlib->scikit-posthocs) (4.1.1)\n",
            "Requirement already satisfied: patsy>=0.5 in /usr/local/lib/python3.7/dist-packages (from statsmodels->scikit-posthocs) (0.5.2)\n",
            "Installing collected packages: scikit-posthocs\n",
            "Successfully installed scikit-posthocs-0.7.0\n"
          ]
        }
      ]
    },
    {
      "cell_type": "markdown",
      "metadata": {
        "id": "dW5_j5jhf39d"
      },
      "source": [
        "The Nemeyi post-hoc test returns the p-values for each pairwise comparison of means. From the output we can see the following p-values:"
      ]
    },
    {
      "cell_type": "code",
      "metadata": {
        "colab": {
          "base_uri": "https://localhost:8080/",
          "height": 248
        },
        "id": "0m0oLi_QfGtv",
        "outputId": "bb5f941e-1660-4bf5-f170-fb8627650d05"
      },
      "source": [
        "import scikit_posthocs as sp\n",
        "import numpy as np\n",
        "\n",
        "#combine three groups into one array\n",
        "data = np.array([AB, ET, RF, GB, DT, SVM])\n",
        "\n",
        "#perform Nemenyi post-hoc test\n",
        "posthoc_nemenyi_friedman_res = sp.posthoc_nemenyi_friedman(data.T)\n",
        "posthoc_nemenyi_friedman_res"
      ],
      "execution_count": 52,
      "outputs": [
        {
          "output_type": "error",
          "ename": "NameError",
          "evalue": "ignored",
          "traceback": [
            "\u001b[0;31m---------------------------------------------------------------------------\u001b[0m",
            "\u001b[0;31mNameError\u001b[0m                                 Traceback (most recent call last)",
            "\u001b[0;32m<ipython-input-52-1110f2b2b1d8>\u001b[0m in \u001b[0;36m<module>\u001b[0;34m\u001b[0m\n\u001b[1;32m      3\u001b[0m \u001b[0;34m\u001b[0m\u001b[0m\n\u001b[1;32m      4\u001b[0m \u001b[0;31m#combine three groups into one array\u001b[0m\u001b[0;34m\u001b[0m\u001b[0;34m\u001b[0m\u001b[0;34m\u001b[0m\u001b[0m\n\u001b[0;32m----> 5\u001b[0;31m \u001b[0mdata\u001b[0m \u001b[0;34m=\u001b[0m \u001b[0mnp\u001b[0m\u001b[0;34m.\u001b[0m\u001b[0marray\u001b[0m\u001b[0;34m(\u001b[0m\u001b[0;34m[\u001b[0m\u001b[0mAB\u001b[0m\u001b[0;34m,\u001b[0m \u001b[0mET\u001b[0m\u001b[0;34m,\u001b[0m \u001b[0mRF\u001b[0m\u001b[0;34m,\u001b[0m \u001b[0mGB\u001b[0m\u001b[0;34m,\u001b[0m \u001b[0mDT\u001b[0m\u001b[0;34m,\u001b[0m \u001b[0mSVM\u001b[0m\u001b[0;34m]\u001b[0m\u001b[0;34m)\u001b[0m\u001b[0;34m\u001b[0m\u001b[0;34m\u001b[0m\u001b[0m\n\u001b[0m\u001b[1;32m      6\u001b[0m \u001b[0;34m\u001b[0m\u001b[0m\n\u001b[1;32m      7\u001b[0m \u001b[0;31m#perform Nemenyi post-hoc test\u001b[0m\u001b[0;34m\u001b[0m\u001b[0;34m\u001b[0m\u001b[0;34m\u001b[0m\u001b[0m\n",
            "\u001b[0;31mNameError\u001b[0m: name 'AB' is not defined"
          ]
        }
      ]
    },
    {
      "cell_type": "markdown",
      "metadata": {
        "id": "41kzqTLHYm6H"
      },
      "source": [
        "\n",
        "### Visualization (optional) [0.5 points]\n",
        "Rank the six algorithms showing the statistical difference among them"
      ]
    },
    {
      "cell_type": "code",
      "metadata": {
        "id": "ux7EOzUoZCgs"
      },
      "source": [
        "# [start here] \n",
        "# Your code goes here komische Linien critical difference plot\n",
        "sp.sign_plot(sp.sign_array(posthoc_nemenyi_friedman_res))\n",
        "# [end here]"
      ],
      "execution_count": null,
      "outputs": []
    },
    {
      "cell_type": "markdown",
      "source": [
        "# Task: evaluate the two classifiers using 5 cross-validation splits - 2 points."
      ],
      "metadata": {
        "id": "W_qAtRhvcWED"
      }
    },
    {
      "cell_type": "code",
      "source": [
        "# [start here] \n",
        "# rf compared to log with k fold cv, results?\n",
        "# 5-fold cross validation\n",
        "\n",
        "from sklearn.model_selection import KFold\n",
        "\n",
        "kf = KFold(n_splits=5)\n",
        "for train, test in kf.split(X):\n",
        "    print(\"%s %s\" % (train, test))\n",
        "    X = np.array([[0., 0.], [1., 1.], [-1., -1.], [2., 2.]])\n",
        "    y = np.array([0, 1, 0, 1])\n",
        "    X_train, X_test, y_train, y_test = X[train], X[test], y[train], y[test]\n",
        "\n",
        "    \n",
        "\n",
        "# [end here]"
      ],
      "metadata": {
        "id": "-yuLPFAwceRP",
        "outputId": "557853cf-0bab-4e78-8380-1bae049fc34b",
        "colab": {
          "base_uri": "https://localhost:8080/"
        }
      },
      "execution_count": 53,
      "outputs": [
        {
          "output_type": "stream",
          "name": "stdout",
          "text": [
            "[ 9043  9044  9045 ... 45208 45209 45210] [   0    1    2 ... 9040 9041 9042]\n",
            "[    0     1     2 ... 45208 45209 45210] [ 9043  9044  9045 ... 18082 18083 18084]\n",
            "[    0     1     2 ... 45208 45209 45210] [18085 18086 18087 ... 27124 27125 27126]\n",
            "[    0     1     2 ... 45208 45209 45210] [27127 27128 27129 ... 36166 36167 36168]\n",
            "[    0     1     2 ... 36166 36167 36168] [36169 36170 36171 ... 45208 45209 45210]\n"
          ]
        }
      ]
    },
    {
      "cell_type": "code",
      "source": [
        "from sklearn.model_selection import ShuffleSplit\n",
        "n_samples = X.shape[0]\n",
        "cv = ShuffleSplit(n_splits=5, test_size=0.3, random_state=0)\n",
        "cross_val_score(clf, X, y, cv=cv)\n",
        "\n",
        "\n",
        "y=bank_marketing_df['class']\n",
        "X=bank_marketing_df.drop('class',1)\n",
        "X_train, X_test, y_train, y_test = train_test_split(X,y, test_size = 0.33, random_state = 2021)\n",
        "\n",
        "scaler= StandardScaler()\n",
        "X_train=scaler.fit_transform(X_train)\n",
        "X_test=scaler.transform(X_test)\n",
        "\n",
        "rf_model = RandomForestClassifier(random_state=2021).fit(X_train, y_train)\n",
        "log_model = LogisticRegression(random_state=2021).fit(X_train, y_train)\n",
        "\n",
        "y_pred_rf = rf_model.predict(X_test)\n",
        "y_pred_log = log_model.predict(X_test)\n",
        "\n",
        "auc_score_rf=roc_auc_score(y_test,y_pred_rf)\n",
        "print(\"roc_auc score for random forest model \",auc_score_rf )\n",
        "auc_score_log=roc_auc_score(y_test,y_pred_log)\n",
        "print(\"roc_auc score for decision tree model \",auc_score_log )\n"
      ],
      "metadata": {
        "id": "i0iGkxPLTYRY"
      },
      "execution_count": null,
      "outputs": []
    },
    {
      "cell_type": "markdown",
      "source": [
        "# Task: Repeat the tests and check if there is a significant difference between classifiers 1 point"
      ],
      "metadata": {
        "id": "X51xzSCjcivi"
      }
    },
    {
      "cell_type": "code",
      "source": [
        "# [start here] \n",
        "# test performance?\n",
        "\n",
        "# [end here]"
      ],
      "metadata": {
        "id": "iM4jK8q0cqzp"
      },
      "execution_count": null,
      "outputs": []
    },
    {
      "cell_type": "markdown",
      "source": [
        "# Add extra cells below:\n",
        "To answer some tasks, you may need to add more cell. Please try to add extra cells below"
      ],
      "metadata": {
        "id": "UNGgt7BYSkyk"
      }
    },
    {
      "cell_type": "markdown",
      "metadata": {
        "id": "ONKf8O2ebR1C"
      },
      "source": [
        "# Share your thoughts and provide us feedback regarding to this notebook.(Optional)\n"
      ]
    },
    {
      "cell_type": "markdown",
      "metadata": {
        "id": "sLTmw2uzJZVk"
      },
      "source": [
        "Write your feedback here: \n"
      ]
    },
    {
      "cell_type": "markdown",
      "metadata": {
        "id": "x3cTbUOaCL59"
      },
      "source": [
        "# <font color='green'> Finished! Please do not remove this cell! </font> \n",
        "\n",
        "\n",
        "\n"
      ]
    }
  ]
}